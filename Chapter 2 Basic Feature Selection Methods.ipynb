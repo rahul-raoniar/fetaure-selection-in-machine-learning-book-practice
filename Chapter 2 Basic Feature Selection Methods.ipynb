{
 "cells": [
  {
   "cell_type": "markdown",
   "metadata": {},
   "source": [
    "### 2.1 Constant feature\n",
    "* Constant features have the same value in all the observations"
   ]
  },
  {
   "cell_type": "markdown",
   "metadata": {},
   "source": [
    "### `Using sklearn`"
   ]
  },
  {
   "cell_type": "code",
   "execution_count": 1,
   "metadata": {},
   "outputs": [],
   "source": [
    "import numpy as np\n",
    "import pandas as pd\n",
    "\n",
    "# Sklearn\n",
    "from sklearn.datasets import make_classification\n",
    "from sklearn.model_selection import train_test_split\n",
    "from sklearn.feature_selection import VarianceThreshold\n",
    "\n",
    "# Feature engine\n",
    "from feature_engine.selection import DropConstantFeatures"
   ]
  },
  {
   "cell_type": "code",
   "execution_count": 5,
   "metadata": {},
   "outputs": [
    {
     "data": {
      "text/html": [
       "<div>\n",
       "<style scoped>\n",
       "    .dataframe tbody tr th:only-of-type {\n",
       "        vertical-align: middle;\n",
       "    }\n",
       "\n",
       "    .dataframe tbody tr th {\n",
       "        vertical-align: top;\n",
       "    }\n",
       "\n",
       "    .dataframe thead th {\n",
       "        text-align: right;\n",
       "    }\n",
       "</style>\n",
       "<table border=\"1\" class=\"dataframe\">\n",
       "  <thead>\n",
       "    <tr style=\"text-align: right;\">\n",
       "      <th></th>\n",
       "      <th>0</th>\n",
       "      <th>1</th>\n",
       "      <th>2</th>\n",
       "      <th>3</th>\n",
       "      <th>4</th>\n",
       "      <th>5</th>\n",
       "      <th>6</th>\n",
       "      <th>7</th>\n",
       "      <th>8</th>\n",
       "      <th>9</th>\n",
       "    </tr>\n",
       "  </thead>\n",
       "  <tbody>\n",
       "    <tr>\n",
       "      <th>0</th>\n",
       "      <td>1</td>\n",
       "      <td>-0.376539</td>\n",
       "      <td>-0.620180</td>\n",
       "      <td>-0.157567</td>\n",
       "      <td>-1.120805</td>\n",
       "      <td>1</td>\n",
       "      <td>-1.574578</td>\n",
       "      <td>1.678046</td>\n",
       "      <td>1.080180</td>\n",
       "      <td>1</td>\n",
       "    </tr>\n",
       "    <tr>\n",
       "      <th>1</th>\n",
       "      <td>1</td>\n",
       "      <td>0.762409</td>\n",
       "      <td>-0.784210</td>\n",
       "      <td>-0.096479</td>\n",
       "      <td>-0.408758</td>\n",
       "      <td>1</td>\n",
       "      <td>0.210942</td>\n",
       "      <td>-0.850449</td>\n",
       "      <td>-0.461301</td>\n",
       "      <td>1</td>\n",
       "    </tr>\n",
       "    <tr>\n",
       "      <th>2</th>\n",
       "      <td>1</td>\n",
       "      <td>2.227934</td>\n",
       "      <td>0.547727</td>\n",
       "      <td>-0.341481</td>\n",
       "      <td>-0.817577</td>\n",
       "      <td>1</td>\n",
       "      <td>-2.663678</td>\n",
       "      <td>2.440042</td>\n",
       "      <td>1.698919</td>\n",
       "      <td>1</td>\n",
       "    </tr>\n",
       "    <tr>\n",
       "      <th>3</th>\n",
       "      <td>1</td>\n",
       "      <td>0.061129</td>\n",
       "      <td>-0.995868</td>\n",
       "      <td>-0.214351</td>\n",
       "      <td>-0.558957</td>\n",
       "      <td>1</td>\n",
       "      <td>-2.149167</td>\n",
       "      <td>2.294192</td>\n",
       "      <td>-1.383965</td>\n",
       "      <td>1</td>\n",
       "    </tr>\n",
       "    <tr>\n",
       "      <th>4</th>\n",
       "      <td>1</td>\n",
       "      <td>0.046349</td>\n",
       "      <td>0.834756</td>\n",
       "      <td>-0.104845</td>\n",
       "      <td>-0.455528</td>\n",
       "      <td>1</td>\n",
       "      <td>-0.911018</td>\n",
       "      <td>0.898098</td>\n",
       "      <td>1.068259</td>\n",
       "      <td>1</td>\n",
       "    </tr>\n",
       "  </tbody>\n",
       "</table>\n",
       "</div>"
      ],
      "text/plain": [
       "   0         1         2         3  ...         6         7         8  9\n",
       "0  1 -0.376539 -0.620180 -0.157567  ... -1.574578  1.678046  1.080180  1\n",
       "1  1  0.762409 -0.784210 -0.096479  ...  0.210942 -0.850449 -0.461301  1\n",
       "2  1  2.227934  0.547727 -0.341481  ... -2.663678  2.440042  1.698919  1\n",
       "3  1  0.061129 -0.995868 -0.214351  ... -2.149167  2.294192 -1.383965  1\n",
       "4  1  0.046349  0.834756 -0.104845  ... -0.911018  0.898098  1.068259  1\n",
       "\n",
       "[5 rows x 10 columns]"
      ]
     },
     "execution_count": 5,
     "metadata": {},
     "output_type": "execute_result"
    }
   ],
   "source": [
    "X, y = make_classification(\n",
    "    n_samples=1000,\n",
    "    n_features=10,\n",
    "    n_classes=2,\n",
    "    random_state=10\n",
    ")\n",
    "\n",
    "# convert_array to dataframe and series\n",
    "X = pd.DataFrame(X)\n",
    "y = pd.Series(y)\n",
    "\n",
    "# Add constant features\n",
    "X[[0, 5, 9]] = 1\n",
    "X.head()"
   ]
  },
  {
   "cell_type": "code",
   "execution_count": 7,
   "metadata": {},
   "outputs": [],
   "source": [
    "# Data splitting\n",
    "X_train, X_test, y_train, y_test = train_test_split(X,\n",
    "                                                    y,\n",
    "                                                    test_size = 0.3,\n",
    "                                                    random_state=0)"
   ]
  },
  {
   "cell_type": "code",
   "execution_count": 12,
   "metadata": {},
   "outputs": [
    {
     "data": {
      "text/plain": [
       "7"
      ]
     },
     "execution_count": 12,
     "metadata": {},
     "output_type": "execute_result"
    }
   ],
   "source": [
    "sel = VarianceThreshold(threshold=0)\n",
    "sel.fit(X_train)\n",
    "\n",
    "# Features to retain\n",
    "sum(sel.get_support())"
   ]
  },
  {
   "cell_type": "code",
   "execution_count": 10,
   "metadata": {},
   "outputs": [
    {
     "data": {
      "text/plain": [
       "Int64Index([0, 5, 9], dtype='int64')"
      ]
     },
     "execution_count": 10,
     "metadata": {},
     "output_type": "execute_result"
    }
   ],
   "source": [
    "# Features to remove\n",
    "X_train.columns[~sel.get_support()]"
   ]
  },
  {
   "cell_type": "code",
   "execution_count": 14,
   "metadata": {},
   "outputs": [
    {
     "name": "stdout",
     "output_type": "stream",
     "text": [
      "(700, 7) (300, 7)\n"
     ]
    }
   ],
   "source": [
    "# Remove constant features\n",
    "X_train_t = sel.transform(X_train)\n",
    "X_test_t = sel.transform(X_test)\n",
    "print(X_train_t.shape, X_test_t.shape)"
   ]
  },
  {
   "cell_type": "code",
   "execution_count": 15,
   "metadata": {},
   "outputs": [
    {
     "data": {
      "text/html": [
       "<div>\n",
       "<style scoped>\n",
       "    .dataframe tbody tr th:only-of-type {\n",
       "        vertical-align: middle;\n",
       "    }\n",
       "\n",
       "    .dataframe tbody tr th {\n",
       "        vertical-align: top;\n",
       "    }\n",
       "\n",
       "    .dataframe thead th {\n",
       "        text-align: right;\n",
       "    }\n",
       "</style>\n",
       "<table border=\"1\" class=\"dataframe\">\n",
       "  <thead>\n",
       "    <tr style=\"text-align: right;\">\n",
       "      <th></th>\n",
       "      <th>x1</th>\n",
       "      <th>x2</th>\n",
       "      <th>x3</th>\n",
       "      <th>x4</th>\n",
       "      <th>x6</th>\n",
       "      <th>x7</th>\n",
       "      <th>x8</th>\n",
       "    </tr>\n",
       "  </thead>\n",
       "  <tbody>\n",
       "    <tr>\n",
       "      <th>0</th>\n",
       "      <td>0.039801</td>\n",
       "      <td>1.501392</td>\n",
       "      <td>-0.189240</td>\n",
       "      <td>1.546828</td>\n",
       "      <td>-1.831193</td>\n",
       "      <td>1.919634</td>\n",
       "      <td>0.209412</td>\n",
       "    </tr>\n",
       "    <tr>\n",
       "      <th>1</th>\n",
       "      <td>-0.078494</td>\n",
       "      <td>-1.536507</td>\n",
       "      <td>-0.496806</td>\n",
       "      <td>0.965100</td>\n",
       "      <td>-0.873804</td>\n",
       "      <td>-1.246872</td>\n",
       "      <td>0.629114</td>\n",
       "    </tr>\n",
       "    <tr>\n",
       "      <th>2</th>\n",
       "      <td>-0.731712</td>\n",
       "      <td>0.972453</td>\n",
       "      <td>-0.309300</td>\n",
       "      <td>-1.432922</td>\n",
       "      <td>-0.419046</td>\n",
       "      <td>-0.975984</td>\n",
       "      <td>0.377169</td>\n",
       "    </tr>\n",
       "    <tr>\n",
       "      <th>3</th>\n",
       "      <td>-0.121187</td>\n",
       "      <td>0.516685</td>\n",
       "      <td>-0.800862</td>\n",
       "      <td>-0.736170</td>\n",
       "      <td>-1.219396</td>\n",
       "      <td>-2.312341</td>\n",
       "      <td>-1.027631</td>\n",
       "    </tr>\n",
       "    <tr>\n",
       "      <th>4</th>\n",
       "      <td>-2.089187</td>\n",
       "      <td>0.899235</td>\n",
       "      <td>-0.241111</td>\n",
       "      <td>1.287536</td>\n",
       "      <td>0.643273</td>\n",
       "      <td>-2.310912</td>\n",
       "      <td>0.085618</td>\n",
       "    </tr>\n",
       "  </tbody>\n",
       "</table>\n",
       "</div>"
      ],
      "text/plain": [
       "         x1        x2        x3        x4        x6        x7        x8\n",
       "0  0.039801  1.501392 -0.189240  1.546828 -1.831193  1.919634  0.209412\n",
       "1 -0.078494 -1.536507 -0.496806  0.965100 -0.873804 -1.246872  0.629114\n",
       "2 -0.731712  0.972453 -0.309300 -1.432922 -0.419046 -0.975984  0.377169\n",
       "3 -0.121187  0.516685 -0.800862 -0.736170 -1.219396 -2.312341 -1.027631\n",
       "4 -2.089187  0.899235 -0.241111  1.287536  0.643273 -2.310912  0.085618"
      ]
     },
     "execution_count": 15,
     "metadata": {},
     "output_type": "execute_result"
    }
   ],
   "source": [
    "# Transform the output to data frame\n",
    "X_train_t = pd.DataFrame(X_train_t, columns = sel.get_feature_names_out())\n",
    "X_test_t = pd.DataFrame(X_test_t, columns = sel.get_feature_names_out())\n",
    "\n",
    "X_train_t.head()"
   ]
  },
  {
   "cell_type": "markdown",
   "metadata": {},
   "source": [
    "### `Using feature engine`"
   ]
  },
  {
   "cell_type": "code",
   "execution_count": 17,
   "metadata": {},
   "outputs": [
    {
     "data": {
      "text/plain": [
       "[0, 5, 9]"
      ]
     },
     "execution_count": 17,
     "metadata": {},
     "output_type": "execute_result"
    }
   ],
   "source": [
    "sel = DropConstantFeatures(tol=1)\n",
    "sel.fit(X_train)\n",
    "sel.features_to_drop_"
   ]
  },
  {
   "cell_type": "code",
   "execution_count": 18,
   "metadata": {},
   "outputs": [
    {
     "name": "stdout",
     "output_type": "stream",
     "text": [
      "(700, 7) (300, 7)\n"
     ]
    }
   ],
   "source": [
    "# Remove constant features\n",
    "X_train_t = sel.transform(X_train)\n",
    "X_test_t = sel.transform(X_test)\n",
    "print(X_train_t.shape, X_test_t.shape)"
   ]
  },
  {
   "cell_type": "markdown",
   "metadata": {},
   "source": [
    "### `Using Pandas`"
   ]
  },
  {
   "cell_type": "code",
   "execution_count": 19,
   "metadata": {},
   "outputs": [
    {
     "data": {
      "text/plain": [
       "[0, 5, 9]"
      ]
     },
     "execution_count": 19,
     "metadata": {},
     "output_type": "execute_result"
    }
   ],
   "source": [
    "constant_features = [feat for feat in X_train.columns if X_train[feat].std() == 0]\n",
    "constant_features"
   ]
  },
  {
   "cell_type": "code",
   "execution_count": 20,
   "metadata": {},
   "outputs": [
    {
     "data": {
      "text/plain": [
       "[0, 5, 9]"
      ]
     },
     "execution_count": 20,
     "metadata": {},
     "output_type": "execute_result"
    }
   ],
   "source": [
    "constant_features = [feat for feat in X_train.columns if X_train[feat].nunique() == 1]\n",
    "constant_features"
   ]
  },
  {
   "cell_type": "code",
   "execution_count": 24,
   "metadata": {},
   "outputs": [
    {
     "data": {
      "text/html": [
       "<div>\n",
       "<style scoped>\n",
       "    .dataframe tbody tr th:only-of-type {\n",
       "        vertical-align: middle;\n",
       "    }\n",
       "\n",
       "    .dataframe tbody tr th {\n",
       "        vertical-align: top;\n",
       "    }\n",
       "\n",
       "    .dataframe thead th {\n",
       "        text-align: right;\n",
       "    }\n",
       "</style>\n",
       "<table border=\"1\" class=\"dataframe\">\n",
       "  <thead>\n",
       "    <tr style=\"text-align: right;\">\n",
       "      <th></th>\n",
       "      <th>1</th>\n",
       "      <th>2</th>\n",
       "      <th>3</th>\n",
       "      <th>4</th>\n",
       "      <th>6</th>\n",
       "      <th>7</th>\n",
       "      <th>8</th>\n",
       "    </tr>\n",
       "  </thead>\n",
       "  <tbody>\n",
       "    <tr>\n",
       "      <th>105</th>\n",
       "      <td>0.039801</td>\n",
       "      <td>1.501392</td>\n",
       "      <td>-0.189240</td>\n",
       "      <td>1.546828</td>\n",
       "      <td>-1.831193</td>\n",
       "      <td>1.919634</td>\n",
       "      <td>0.209412</td>\n",
       "    </tr>\n",
       "    <tr>\n",
       "      <th>68</th>\n",
       "      <td>-0.078494</td>\n",
       "      <td>-1.536507</td>\n",
       "      <td>-0.496806</td>\n",
       "      <td>0.965100</td>\n",
       "      <td>-0.873804</td>\n",
       "      <td>-1.246872</td>\n",
       "      <td>0.629114</td>\n",
       "    </tr>\n",
       "    <tr>\n",
       "      <th>479</th>\n",
       "      <td>-0.731712</td>\n",
       "      <td>0.972453</td>\n",
       "      <td>-0.309300</td>\n",
       "      <td>-1.432922</td>\n",
       "      <td>-0.419046</td>\n",
       "      <td>-0.975984</td>\n",
       "      <td>0.377169</td>\n",
       "    </tr>\n",
       "    <tr>\n",
       "      <th>399</th>\n",
       "      <td>-0.121187</td>\n",
       "      <td>0.516685</td>\n",
       "      <td>-0.800862</td>\n",
       "      <td>-0.736170</td>\n",
       "      <td>-1.219396</td>\n",
       "      <td>-2.312341</td>\n",
       "      <td>-1.027631</td>\n",
       "    </tr>\n",
       "    <tr>\n",
       "      <th>434</th>\n",
       "      <td>-2.089187</td>\n",
       "      <td>0.899235</td>\n",
       "      <td>-0.241111</td>\n",
       "      <td>1.287536</td>\n",
       "      <td>0.643273</td>\n",
       "      <td>-2.310912</td>\n",
       "      <td>0.085618</td>\n",
       "    </tr>\n",
       "    <tr>\n",
       "      <th>...</th>\n",
       "      <td>...</td>\n",
       "      <td>...</td>\n",
       "      <td>...</td>\n",
       "      <td>...</td>\n",
       "      <td>...</td>\n",
       "      <td>...</td>\n",
       "      <td>...</td>\n",
       "    </tr>\n",
       "    <tr>\n",
       "      <th>835</th>\n",
       "      <td>-1.468374</td>\n",
       "      <td>0.848175</td>\n",
       "      <td>-0.071533</td>\n",
       "      <td>-0.013723</td>\n",
       "      <td>-0.849595</td>\n",
       "      <td>0.977174</td>\n",
       "      <td>-0.505686</td>\n",
       "    </tr>\n",
       "    <tr>\n",
       "      <th>192</th>\n",
       "      <td>-0.027732</td>\n",
       "      <td>0.963969</td>\n",
       "      <td>-0.185423</td>\n",
       "      <td>-0.836643</td>\n",
       "      <td>-0.677983</td>\n",
       "      <td>0.096945</td>\n",
       "      <td>-1.014776</td>\n",
       "    </tr>\n",
       "    <tr>\n",
       "      <th>629</th>\n",
       "      <td>1.300085</td>\n",
       "      <td>0.399210</td>\n",
       "      <td>-0.092703</td>\n",
       "      <td>0.754389</td>\n",
       "      <td>0.762208</td>\n",
       "      <td>-1.711360</td>\n",
       "      <td>-0.858352</td>\n",
       "    </tr>\n",
       "    <tr>\n",
       "      <th>559</th>\n",
       "      <td>-1.662055</td>\n",
       "      <td>0.489118</td>\n",
       "      <td>-0.316367</td>\n",
       "      <td>-0.958943</td>\n",
       "      <td>-2.220045</td>\n",
       "      <td>1.864672</td>\n",
       "      <td>-1.041008</td>\n",
       "    </tr>\n",
       "    <tr>\n",
       "      <th>684</th>\n",
       "      <td>-1.390342</td>\n",
       "      <td>-0.313570</td>\n",
       "      <td>0.543010</td>\n",
       "      <td>-1.464944</td>\n",
       "      <td>1.179068</td>\n",
       "      <td>1.004848</td>\n",
       "      <td>0.772328</td>\n",
       "    </tr>\n",
       "  </tbody>\n",
       "</table>\n",
       "<p>700 rows × 7 columns</p>\n",
       "</div>"
      ],
      "text/plain": [
       "            1         2         3         4         6         7         8\n",
       "105  0.039801  1.501392 -0.189240  1.546828 -1.831193  1.919634  0.209412\n",
       "68  -0.078494 -1.536507 -0.496806  0.965100 -0.873804 -1.246872  0.629114\n",
       "479 -0.731712  0.972453 -0.309300 -1.432922 -0.419046 -0.975984  0.377169\n",
       "399 -0.121187  0.516685 -0.800862 -0.736170 -1.219396 -2.312341 -1.027631\n",
       "434 -2.089187  0.899235 -0.241111  1.287536  0.643273 -2.310912  0.085618\n",
       "..        ...       ...       ...       ...       ...       ...       ...\n",
       "835 -1.468374  0.848175 -0.071533 -0.013723 -0.849595  0.977174 -0.505686\n",
       "192 -0.027732  0.963969 -0.185423 -0.836643 -0.677983  0.096945 -1.014776\n",
       "629  1.300085  0.399210 -0.092703  0.754389  0.762208 -1.711360 -0.858352\n",
       "559 -1.662055  0.489118 -0.316367 -0.958943 -2.220045  1.864672 -1.041008\n",
       "684 -1.390342 -0.313570  0.543010 -1.464944  1.179068  1.004848  0.772328\n",
       "\n",
       "[700 rows x 7 columns]"
      ]
     },
     "execution_count": 24,
     "metadata": {},
     "output_type": "execute_result"
    }
   ],
   "source": [
    "# Remove features\n",
    "X_train_t = X_train.drop(labels = constant_features, axis = 1)\n",
    "X_test_t = X_test.drop(labels = constant_features, axis = 1)\n",
    "X_train_t"
   ]
  },
  {
   "cell_type": "markdown",
   "metadata": {},
   "source": [
    "## 2. Quasi-constant features"
   ]
  },
  {
   "cell_type": "code",
   "execution_count": 2,
   "metadata": {},
   "outputs": [],
   "source": [
    "X, y = make_classification(\n",
    "    n_samples=1000,\n",
    "    n_features=10,\n",
    "    n_classes=2,\n",
    "    random_state=10\n",
    ")\n",
    "\n",
    "# convert_array to dataframe and series\n",
    "X = pd.DataFrame(X)\n",
    "y = pd.Series(y)"
   ]
  },
  {
   "cell_type": "code",
   "execution_count": 10,
   "metadata": {},
   "outputs": [
    {
     "data": {
      "text/plain": [
       " 1.000000    990\n",
       " 0.575817      1\n",
       "-0.252115      1\n",
       "-0.713968      1\n",
       "-0.566143      1\n",
       " 0.417586      1\n",
       " 1.374848      1\n",
       " 1.052890      1\n",
       " 0.307155      1\n",
       " 0.205710      1\n",
       " 0.814039      1\n",
       "Name: 5, dtype: int64"
      ]
     },
     "execution_count": 10,
     "metadata": {},
     "output_type": "execute_result"
    }
   ],
   "source": [
    "# Add quasi-constant features\n",
    "\n",
    "import random\n",
    "\n",
    "X.iloc[random.sample(range(0, 1000), 990), [5,7,9]] = 1\n",
    "X[5].value_counts()"
   ]
  },
  {
   "cell_type": "code",
   "execution_count": 11,
   "metadata": {},
   "outputs": [],
   "source": [
    "# Data splitting\n",
    "X_train, X_test, y_train, y_test = train_test_split(X,\n",
    "                                                    y,\n",
    "                                                    test_size = 0.3,\n",
    "                                                    random_state=0)"
   ]
  },
  {
   "cell_type": "code",
   "execution_count": 12,
   "metadata": {},
   "outputs": [
    {
     "data": {
      "text/plain": [
       "7"
      ]
     },
     "execution_count": 12,
     "metadata": {},
     "output_type": "execute_result"
    }
   ],
   "source": [
    "sel = VarianceThreshold(threshold=0.2)\n",
    "sel.fit(X_train)\n",
    "\n",
    "# Features to retain\n",
    "sum(sel.get_support())"
   ]
  },
  {
   "cell_type": "code",
   "execution_count": 13,
   "metadata": {},
   "outputs": [
    {
     "data": {
      "text/plain": [
       "Int64Index([5, 7, 9], dtype='int64')"
      ]
     },
     "execution_count": 13,
     "metadata": {},
     "output_type": "execute_result"
    }
   ],
   "source": [
    "# Features to remove\n",
    "X_train.columns[~sel.get_support()]"
   ]
  },
  {
   "cell_type": "code",
   "execution_count": 14,
   "metadata": {},
   "outputs": [
    {
     "name": "stdout",
     "output_type": "stream",
     "text": [
      "(700, 7) (300, 7)\n"
     ]
    }
   ],
   "source": [
    "# Remove constant features\n",
    "X_train_t = sel.transform(X_train)\n",
    "X_test_t = sel.transform(X_test)\n",
    "print(X_train_t.shape, X_test_t.shape)"
   ]
  },
  {
   "cell_type": "code",
   "execution_count": 15,
   "metadata": {},
   "outputs": [
    {
     "data": {
      "text/html": [
       "<div>\n",
       "<style scoped>\n",
       "    .dataframe tbody tr th:only-of-type {\n",
       "        vertical-align: middle;\n",
       "    }\n",
       "\n",
       "    .dataframe tbody tr th {\n",
       "        vertical-align: top;\n",
       "    }\n",
       "\n",
       "    .dataframe thead th {\n",
       "        text-align: right;\n",
       "    }\n",
       "</style>\n",
       "<table border=\"1\" class=\"dataframe\">\n",
       "  <thead>\n",
       "    <tr style=\"text-align: right;\">\n",
       "      <th></th>\n",
       "      <th>x0</th>\n",
       "      <th>x1</th>\n",
       "      <th>x2</th>\n",
       "      <th>x3</th>\n",
       "      <th>x4</th>\n",
       "      <th>x6</th>\n",
       "      <th>x8</th>\n",
       "    </tr>\n",
       "  </thead>\n",
       "  <tbody>\n",
       "    <tr>\n",
       "      <th>0</th>\n",
       "      <td>-1.155673</td>\n",
       "      <td>0.039801</td>\n",
       "      <td>1.501392</td>\n",
       "      <td>-0.189240</td>\n",
       "      <td>1.546828</td>\n",
       "      <td>-1.831193</td>\n",
       "      <td>0.209412</td>\n",
       "    </tr>\n",
       "    <tr>\n",
       "      <th>1</th>\n",
       "      <td>0.404169</td>\n",
       "      <td>-0.078494</td>\n",
       "      <td>-1.536507</td>\n",
       "      <td>-0.496806</td>\n",
       "      <td>0.965100</td>\n",
       "      <td>-0.873804</td>\n",
       "      <td>0.629114</td>\n",
       "    </tr>\n",
       "    <tr>\n",
       "      <th>2</th>\n",
       "      <td>0.360850</td>\n",
       "      <td>-0.731712</td>\n",
       "      <td>0.972453</td>\n",
       "      <td>-0.309300</td>\n",
       "      <td>-1.432922</td>\n",
       "      <td>-0.419046</td>\n",
       "      <td>0.377169</td>\n",
       "    </tr>\n",
       "    <tr>\n",
       "      <th>3</th>\n",
       "      <td>0.816893</td>\n",
       "      <td>-0.121187</td>\n",
       "      <td>0.516685</td>\n",
       "      <td>-0.800862</td>\n",
       "      <td>-0.736170</td>\n",
       "      <td>-1.219396</td>\n",
       "      <td>-1.027631</td>\n",
       "    </tr>\n",
       "    <tr>\n",
       "      <th>4</th>\n",
       "      <td>1.129063</td>\n",
       "      <td>-2.089187</td>\n",
       "      <td>0.899235</td>\n",
       "      <td>-0.241111</td>\n",
       "      <td>1.287536</td>\n",
       "      <td>0.643273</td>\n",
       "      <td>0.085618</td>\n",
       "    </tr>\n",
       "  </tbody>\n",
       "</table>\n",
       "</div>"
      ],
      "text/plain": [
       "         x0        x1        x2        x3        x4        x6        x8\n",
       "0 -1.155673  0.039801  1.501392 -0.189240  1.546828 -1.831193  0.209412\n",
       "1  0.404169 -0.078494 -1.536507 -0.496806  0.965100 -0.873804  0.629114\n",
       "2  0.360850 -0.731712  0.972453 -0.309300 -1.432922 -0.419046  0.377169\n",
       "3  0.816893 -0.121187  0.516685 -0.800862 -0.736170 -1.219396 -1.027631\n",
       "4  1.129063 -2.089187  0.899235 -0.241111  1.287536  0.643273  0.085618"
      ]
     },
     "execution_count": 15,
     "metadata": {},
     "output_type": "execute_result"
    }
   ],
   "source": [
    "# Transform the output to data frame\n",
    "X_train_t = pd.DataFrame(X_train_t, columns = sel.get_feature_names_out())\n",
    "X_test_t = pd.DataFrame(X_test_t, columns = sel.get_feature_names_out())\n",
    "\n",
    "X_train_t.head()"
   ]
  },
  {
   "cell_type": "markdown",
   "metadata": {},
   "source": [
    "### Using `feature engine`"
   ]
  },
  {
   "cell_type": "code",
   "execution_count": 16,
   "metadata": {},
   "outputs": [
    {
     "data": {
      "text/plain": [
       "[5, 7, 9]"
      ]
     },
     "execution_count": 16,
     "metadata": {},
     "output_type": "execute_result"
    }
   ],
   "source": [
    "sel = DropConstantFeatures(tol=0.95)\n",
    "sel.fit(X_train)\n",
    "sel.features_to_drop_"
   ]
  },
  {
   "cell_type": "code",
   "execution_count": 17,
   "metadata": {},
   "outputs": [],
   "source": [
    "X_train_t = sel.transform(X_train)\n",
    "X_test_t = sel.transform(X_test)"
   ]
  },
  {
   "cell_type": "markdown",
   "metadata": {},
   "source": [
    "### Using `Pandas`"
   ]
  },
  {
   "cell_type": "code",
   "execution_count": 20,
   "metadata": {},
   "outputs": [
    {
     "data": {
      "text/plain": [
       "[5, 7, 9]"
      ]
     },
     "execution_count": 20,
     "metadata": {},
     "output_type": "execute_result"
    }
   ],
   "source": [
    "constant_features = [feat for feat in X_train.columns if X_train[feat].std() <= 0.2]\n",
    "constant_features"
   ]
  },
  {
   "cell_type": "code",
   "execution_count": 21,
   "metadata": {},
   "outputs": [],
   "source": [
    "quasi_constant_feat = []\n",
    "\n",
    "for feature in X_train.columns:\n",
    "    predominant = X_train[feature].value_counts(normalize = True).sort_values(ascending = False).values[0]\n",
    "    if predominant > 0.95:\n",
    "        quasi_constant_feat.append(feature)"
   ]
  },
  {
   "cell_type": "code",
   "execution_count": 22,
   "metadata": {},
   "outputs": [
    {
     "data": {
      "text/plain": [
       "[5, 7, 9]"
      ]
     },
     "execution_count": 22,
     "metadata": {},
     "output_type": "execute_result"
    }
   ],
   "source": [
    "quasi_constant_feat"
   ]
  },
  {
   "cell_type": "code",
   "execution_count": 23,
   "metadata": {},
   "outputs": [
    {
     "data": {
      "text/html": [
       "<div>\n",
       "<style scoped>\n",
       "    .dataframe tbody tr th:only-of-type {\n",
       "        vertical-align: middle;\n",
       "    }\n",
       "\n",
       "    .dataframe tbody tr th {\n",
       "        vertical-align: top;\n",
       "    }\n",
       "\n",
       "    .dataframe thead th {\n",
       "        text-align: right;\n",
       "    }\n",
       "</style>\n",
       "<table border=\"1\" class=\"dataframe\">\n",
       "  <thead>\n",
       "    <tr style=\"text-align: right;\">\n",
       "      <th></th>\n",
       "      <th>0</th>\n",
       "      <th>1</th>\n",
       "      <th>2</th>\n",
       "      <th>3</th>\n",
       "      <th>4</th>\n",
       "      <th>6</th>\n",
       "      <th>8</th>\n",
       "    </tr>\n",
       "  </thead>\n",
       "  <tbody>\n",
       "    <tr>\n",
       "      <th>105</th>\n",
       "      <td>-1.155673</td>\n",
       "      <td>0.039801</td>\n",
       "      <td>1.501392</td>\n",
       "      <td>-0.189240</td>\n",
       "      <td>1.546828</td>\n",
       "      <td>-1.831193</td>\n",
       "      <td>0.209412</td>\n",
       "    </tr>\n",
       "    <tr>\n",
       "      <th>68</th>\n",
       "      <td>0.404169</td>\n",
       "      <td>-0.078494</td>\n",
       "      <td>-1.536507</td>\n",
       "      <td>-0.496806</td>\n",
       "      <td>0.965100</td>\n",
       "      <td>-0.873804</td>\n",
       "      <td>0.629114</td>\n",
       "    </tr>\n",
       "    <tr>\n",
       "      <th>479</th>\n",
       "      <td>0.360850</td>\n",
       "      <td>-0.731712</td>\n",
       "      <td>0.972453</td>\n",
       "      <td>-0.309300</td>\n",
       "      <td>-1.432922</td>\n",
       "      <td>-0.419046</td>\n",
       "      <td>0.377169</td>\n",
       "    </tr>\n",
       "    <tr>\n",
       "      <th>399</th>\n",
       "      <td>0.816893</td>\n",
       "      <td>-0.121187</td>\n",
       "      <td>0.516685</td>\n",
       "      <td>-0.800862</td>\n",
       "      <td>-0.736170</td>\n",
       "      <td>-1.219396</td>\n",
       "      <td>-1.027631</td>\n",
       "    </tr>\n",
       "    <tr>\n",
       "      <th>434</th>\n",
       "      <td>1.129063</td>\n",
       "      <td>-2.089187</td>\n",
       "      <td>0.899235</td>\n",
       "      <td>-0.241111</td>\n",
       "      <td>1.287536</td>\n",
       "      <td>0.643273</td>\n",
       "      <td>0.085618</td>\n",
       "    </tr>\n",
       "    <tr>\n",
       "      <th>...</th>\n",
       "      <td>...</td>\n",
       "      <td>...</td>\n",
       "      <td>...</td>\n",
       "      <td>...</td>\n",
       "      <td>...</td>\n",
       "      <td>...</td>\n",
       "      <td>...</td>\n",
       "    </tr>\n",
       "    <tr>\n",
       "      <th>835</th>\n",
       "      <td>-0.574422</td>\n",
       "      <td>-1.468374</td>\n",
       "      <td>0.848175</td>\n",
       "      <td>-0.071533</td>\n",
       "      <td>-0.013723</td>\n",
       "      <td>-0.849595</td>\n",
       "      <td>-0.505686</td>\n",
       "    </tr>\n",
       "    <tr>\n",
       "      <th>192</th>\n",
       "      <td>-0.156688</td>\n",
       "      <td>-0.027732</td>\n",
       "      <td>0.963969</td>\n",
       "      <td>-0.185423</td>\n",
       "      <td>-0.836643</td>\n",
       "      <td>-0.677983</td>\n",
       "      <td>-1.014776</td>\n",
       "    </tr>\n",
       "    <tr>\n",
       "      <th>629</th>\n",
       "      <td>0.884134</td>\n",
       "      <td>1.300085</td>\n",
       "      <td>0.399210</td>\n",
       "      <td>-0.092703</td>\n",
       "      <td>0.754389</td>\n",
       "      <td>0.762208</td>\n",
       "      <td>-0.858352</td>\n",
       "    </tr>\n",
       "    <tr>\n",
       "      <th>559</th>\n",
       "      <td>-1.196690</td>\n",
       "      <td>-1.662055</td>\n",
       "      <td>0.489118</td>\n",
       "      <td>-0.316367</td>\n",
       "      <td>-0.958943</td>\n",
       "      <td>-2.220045</td>\n",
       "      <td>-1.041008</td>\n",
       "    </tr>\n",
       "    <tr>\n",
       "      <th>684</th>\n",
       "      <td>-0.245972</td>\n",
       "      <td>-1.390342</td>\n",
       "      <td>-0.313570</td>\n",
       "      <td>0.543010</td>\n",
       "      <td>-1.464944</td>\n",
       "      <td>1.179068</td>\n",
       "      <td>0.772328</td>\n",
       "    </tr>\n",
       "  </tbody>\n",
       "</table>\n",
       "<p>700 rows × 7 columns</p>\n",
       "</div>"
      ],
      "text/plain": [
       "            0         1         2         3         4         6         8\n",
       "105 -1.155673  0.039801  1.501392 -0.189240  1.546828 -1.831193  0.209412\n",
       "68   0.404169 -0.078494 -1.536507 -0.496806  0.965100 -0.873804  0.629114\n",
       "479  0.360850 -0.731712  0.972453 -0.309300 -1.432922 -0.419046  0.377169\n",
       "399  0.816893 -0.121187  0.516685 -0.800862 -0.736170 -1.219396 -1.027631\n",
       "434  1.129063 -2.089187  0.899235 -0.241111  1.287536  0.643273  0.085618\n",
       "..        ...       ...       ...       ...       ...       ...       ...\n",
       "835 -0.574422 -1.468374  0.848175 -0.071533 -0.013723 -0.849595 -0.505686\n",
       "192 -0.156688 -0.027732  0.963969 -0.185423 -0.836643 -0.677983 -1.014776\n",
       "629  0.884134  1.300085  0.399210 -0.092703  0.754389  0.762208 -0.858352\n",
       "559 -1.196690 -1.662055  0.489118 -0.316367 -0.958943 -2.220045 -1.041008\n",
       "684 -0.245972 -1.390342 -0.313570  0.543010 -1.464944  1.179068  0.772328\n",
       "\n",
       "[700 rows x 7 columns]"
      ]
     },
     "execution_count": 23,
     "metadata": {},
     "output_type": "execute_result"
    }
   ],
   "source": [
    "# Remove features\n",
    "X_train_t = X_train.drop(labels = quasi_constant_feat, axis = 1)\n",
    "X_test_t = X_test.drop(labels = quasi_constant_feat, axis = 1)\n",
    "X_train_t"
   ]
  },
  {
   "cell_type": "markdown",
   "metadata": {},
   "source": [
    "## 3. Duplicate Features"
   ]
  },
  {
   "cell_type": "code",
   "execution_count": null,
   "metadata": {},
   "outputs": [],
   "source": []
  },
  {
   "cell_type": "code",
   "execution_count": null,
   "metadata": {},
   "outputs": [],
   "source": []
  },
  {
   "cell_type": "code",
   "execution_count": null,
   "metadata": {},
   "outputs": [],
   "source": []
  },
  {
   "cell_type": "code",
   "execution_count": null,
   "metadata": {},
   "outputs": [],
   "source": []
  },
  {
   "cell_type": "code",
   "execution_count": null,
   "metadata": {},
   "outputs": [],
   "source": []
  },
  {
   "cell_type": "code",
   "execution_count": null,
   "metadata": {},
   "outputs": [],
   "source": []
  },
  {
   "cell_type": "code",
   "execution_count": null,
   "metadata": {},
   "outputs": [],
   "source": []
  },
  {
   "cell_type": "code",
   "execution_count": null,
   "metadata": {},
   "outputs": [],
   "source": []
  },
  {
   "cell_type": "code",
   "execution_count": null,
   "metadata": {},
   "outputs": [],
   "source": []
  },
  {
   "cell_type": "code",
   "execution_count": null,
   "metadata": {},
   "outputs": [],
   "source": []
  },
  {
   "cell_type": "code",
   "execution_count": null,
   "metadata": {},
   "outputs": [],
   "source": []
  },
  {
   "cell_type": "code",
   "execution_count": null,
   "metadata": {},
   "outputs": [],
   "source": []
  },
  {
   "cell_type": "code",
   "execution_count": null,
   "metadata": {},
   "outputs": [],
   "source": []
  },
  {
   "cell_type": "code",
   "execution_count": null,
   "metadata": {},
   "outputs": [],
   "source": []
  },
  {
   "cell_type": "code",
   "execution_count": null,
   "metadata": {},
   "outputs": [],
   "source": []
  },
  {
   "cell_type": "code",
   "execution_count": null,
   "metadata": {},
   "outputs": [],
   "source": []
  },
  {
   "cell_type": "code",
   "execution_count": null,
   "metadata": {},
   "outputs": [],
   "source": []
  },
  {
   "cell_type": "code",
   "execution_count": null,
   "metadata": {},
   "outputs": [],
   "source": []
  },
  {
   "cell_type": "code",
   "execution_count": null,
   "metadata": {},
   "outputs": [],
   "source": []
  },
  {
   "cell_type": "code",
   "execution_count": null,
   "metadata": {},
   "outputs": [],
   "source": []
  },
  {
   "cell_type": "code",
   "execution_count": null,
   "metadata": {},
   "outputs": [],
   "source": []
  },
  {
   "cell_type": "code",
   "execution_count": null,
   "metadata": {},
   "outputs": [],
   "source": []
  },
  {
   "cell_type": "code",
   "execution_count": null,
   "metadata": {},
   "outputs": [],
   "source": []
  },
  {
   "cell_type": "code",
   "execution_count": null,
   "metadata": {},
   "outputs": [],
   "source": []
  },
  {
   "cell_type": "code",
   "execution_count": null,
   "metadata": {},
   "outputs": [],
   "source": []
  },
  {
   "cell_type": "code",
   "execution_count": null,
   "metadata": {},
   "outputs": [],
   "source": []
  },
  {
   "cell_type": "code",
   "execution_count": null,
   "metadata": {},
   "outputs": [],
   "source": []
  },
  {
   "cell_type": "code",
   "execution_count": null,
   "metadata": {},
   "outputs": [],
   "source": []
  },
  {
   "cell_type": "code",
   "execution_count": null,
   "metadata": {},
   "outputs": [],
   "source": []
  },
  {
   "cell_type": "code",
   "execution_count": null,
   "metadata": {},
   "outputs": [],
   "source": []
  },
  {
   "cell_type": "code",
   "execution_count": null,
   "metadata": {},
   "outputs": [],
   "source": []
  },
  {
   "cell_type": "code",
   "execution_count": null,
   "metadata": {},
   "outputs": [],
   "source": []
  },
  {
   "cell_type": "code",
   "execution_count": null,
   "metadata": {},
   "outputs": [],
   "source": []
  },
  {
   "cell_type": "code",
   "execution_count": null,
   "metadata": {},
   "outputs": [],
   "source": []
  },
  {
   "cell_type": "code",
   "execution_count": null,
   "metadata": {},
   "outputs": [],
   "source": []
  },
  {
   "cell_type": "code",
   "execution_count": null,
   "metadata": {},
   "outputs": [],
   "source": []
  },
  {
   "cell_type": "code",
   "execution_count": null,
   "metadata": {},
   "outputs": [],
   "source": []
  },
  {
   "cell_type": "code",
   "execution_count": null,
   "metadata": {},
   "outputs": [],
   "source": []
  },
  {
   "cell_type": "code",
   "execution_count": null,
   "metadata": {},
   "outputs": [],
   "source": []
  },
  {
   "cell_type": "code",
   "execution_count": null,
   "metadata": {},
   "outputs": [],
   "source": []
  },
  {
   "cell_type": "code",
   "execution_count": null,
   "metadata": {},
   "outputs": [],
   "source": []
  },
  {
   "cell_type": "code",
   "execution_count": null,
   "metadata": {},
   "outputs": [],
   "source": []
  },
  {
   "cell_type": "code",
   "execution_count": null,
   "metadata": {},
   "outputs": [],
   "source": []
  },
  {
   "cell_type": "code",
   "execution_count": null,
   "metadata": {},
   "outputs": [],
   "source": []
  }
 ],
 "metadata": {
  "kernelspec": {
   "display_name": "Python 3.9.12 ('datascience')",
   "language": "python",
   "name": "python3"
  },
  "language_info": {
   "codemirror_mode": {
    "name": "ipython",
    "version": 3
   },
   "file_extension": ".py",
   "mimetype": "text/x-python",
   "name": "python",
   "nbconvert_exporter": "python",
   "pygments_lexer": "ipython3",
   "version": "3.9.12"
  },
  "orig_nbformat": 4,
  "vscode": {
   "interpreter": {
    "hash": "2b0682c63ccf40119d03593b7cd5298f348ffaf8e13faf844cf14e5e4e7e25a8"
   }
  }
 },
 "nbformat": 4,
 "nbformat_minor": 2
}
