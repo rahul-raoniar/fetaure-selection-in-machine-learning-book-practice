{
 "cells": [
  {
   "cell_type": "markdown",
   "metadata": {},
   "source": [
    "## Chapter outline\n",
    "\n",
    "### Wrapper Methods\n",
    "* Lasso\n",
    "* Feature importance from decision trees\n",
    "* Recursive feature elemination by feature importance"
   ]
  },
  {
   "cell_type": "markdown",
   "metadata": {},
   "source": [
    "### 7.1 Lasso Method\n",
    "\n",
    "* Data need to be scaled for applying this method"
   ]
  },
  {
   "cell_type": "markdown",
   "metadata": {},
   "source": [
    "##### 7.1.1 Using Logistic Regression"
   ]
  },
  {
   "cell_type": "code",
   "execution_count": 3,
   "metadata": {},
   "outputs": [],
   "source": [
    "import numpy as np\n",
    "import pandas as pd\n",
    "import matplotlib.pyplot as plt\n",
    "import seaborn as sns\n",
    "\n",
    "# Sklearn\n",
    "from sklearn.datasets import load_breast_cancer, fetch_california_housing\n",
    "from sklearn.feature_selection import SelectFromModel\n",
    "from sklearn.linear_model import Lasso, LogisticRegression\n",
    "from sklearn.model_selection import train_test_split\n",
    "from sklearn.preprocessing import StandardScaler"
   ]
  },
  {
   "cell_type": "code",
   "execution_count": 11,
   "metadata": {},
   "outputs": [],
   "source": [
    "brest_cancer = load_breast_cancer()\n",
    "X = pd.DataFrame(brest_cancer.data, columns = brest_cancer.feature_names)\n",
    "y = brest_cancer.target\n",
    "\n",
    "X_train, X_test, y_train, y_test = train_test_split(X, y, random_state=0)"
   ]
  },
  {
   "cell_type": "code",
   "execution_count": 12,
   "metadata": {},
   "outputs": [
    {
     "data": {
      "text/plain": [
       "array([False,  True, False, False, False, False, False,  True,  True,\n",
       "       False,  True, False, False, False, False,  True, False, False,\n",
       "       False,  True,  True,  True,  True,  True,  True, False,  True,\n",
       "        True,  True, False])"
      ]
     },
     "execution_count": 12,
     "metadata": {},
     "output_type": "execute_result"
    }
   ],
   "source": [
    "scaler = StandardScaler()\n",
    "scaler.fit(X_train)\n",
    "\n",
    "sel_ = SelectFromModel(\n",
    "    LogisticRegression(\n",
    "        C = 0.5, penalty=\"l1\", solver = \"liblinear\", random_state=10\n",
    "    )\n",
    ")\n",
    "\n",
    "sel_.fit(scaler.transform(X_train), y_train)\n",
    "sel_.get_support()"
   ]
  },
  {
   "cell_type": "code",
   "execution_count": 15,
   "metadata": {},
   "outputs": [
    {
     "data": {
      "text/plain": [
       "Index(['mean radius', 'mean perimeter', 'mean area', 'mean smoothness',\n",
       "       'mean compactness', 'mean concavity', 'mean fractal dimension',\n",
       "       'texture error', 'perimeter error', 'area error', 'smoothness error',\n",
       "       'concavity error', 'concave points error', 'symmetry error',\n",
       "       'worst compactness', 'worst fractal dimension'],\n",
       "      dtype='object')"
      ]
     },
     "execution_count": 15,
     "metadata": {},
     "output_type": "execute_result"
    }
   ],
   "source": [
    "removed_feats = X_train.columns[(sel_.estimator_.coef_ == 0).ravel().tolist()]\n",
    "removed_feats"
   ]
  },
  {
   "cell_type": "code",
   "execution_count": 16,
   "metadata": {},
   "outputs": [
    {
     "data": {
      "text/plain": [
       "array([[-0.43057322, -0.67944444,  0.25404078, ..., -0.69592933,\n",
       "        -0.36433881,  0.32349851],\n",
       "       [ 0.15226547, -1.07190884,  0.48903741, ..., -1.29277423,\n",
       "        -1.45036679,  0.62563098],\n",
       "       [ 2.18977235,  1.25773115, -0.19064516, ...,  0.26255563,\n",
       "         0.72504581, -0.51329768],\n",
       "       ...,\n",
       "       [-0.22172269, -0.90485937, -1.08001703, ..., -0.78274313,\n",
       "        -0.98806491, -0.69995543],\n",
       "       [-0.24600763, -1.26748337, -0.54856311, ..., -1.36015587,\n",
       "        -1.75887319, -1.56206114],\n",
       "       [ 1.14066273, -0.20875539, -1.5066263 , ...,  0.47201917,\n",
       "        -0.2860679 , -1.24094654]])"
      ]
     },
     "execution_count": 16,
     "metadata": {},
     "output_type": "execute_result"
    }
   ],
   "source": [
    "X_train_selecetd = sel_.transform(scaler.transform(X_train))\n",
    "X_test_selecetd = sel_.transform(scaler.transform(X_test))\n",
    "X_train_selecetd"
   ]
  },
  {
   "cell_type": "code",
   "execution_count": 17,
   "metadata": {},
   "outputs": [
    {
     "name": "stdout",
     "output_type": "stream",
     "text": [
      "(426, 14) (143, 14)\n"
     ]
    }
   ],
   "source": [
    "print(X_train_selecetd.shape, X_test_selecetd.shape)"
   ]
  },
  {
   "cell_type": "markdown",
   "metadata": {},
   "source": [
    "#### 7.1.2 Using Lasso Method"
   ]
  },
  {
   "cell_type": "code",
   "execution_count": 26,
   "metadata": {},
   "outputs": [],
   "source": [
    "brest_cancer = load_breast_cancer()\n",
    "X = pd.DataFrame(brest_cancer.data, columns = brest_cancer.feature_names)\n",
    "y = brest_cancer.target\n",
    "\n",
    "X_train, X_test, y_train, y_test = train_test_split(X, y, random_state=0)"
   ]
  },
  {
   "cell_type": "code",
   "execution_count": 27,
   "metadata": {},
   "outputs": [
    {
     "data": {
      "text/plain": [
       "array([False,  True, False,  True,  True,  True,  True,  True,  True,\n",
       "        True,  True,  True,  True,  True,  True,  True,  True,  True,\n",
       "        True,  True,  True,  True, False,  True,  True, False,  True,\n",
       "        True,  True,  True])"
      ]
     },
     "execution_count": 27,
     "metadata": {},
     "output_type": "execute_result"
    }
   ],
   "source": [
    "scaler = StandardScaler()\n",
    "scaler.fit(X_train)\n",
    "\n",
    "sel_ = SelectFromModel(\n",
    "    Lasso(\n",
    "        alpha = 0.001, random_state=10\n",
    "    )\n",
    ")\n",
    "\n",
    "sel_.fit(scaler.transform(X_train), y_train)\n",
    "sel_.get_support()"
   ]
  },
  {
   "cell_type": "code",
   "execution_count": 28,
   "metadata": {},
   "outputs": [
    {
     "data": {
      "text/plain": [
       "array([[-0.43057322, -0.62698309, -0.91381897, ..., -0.36433881,\n",
       "         0.32349851, -0.7578486 ],\n",
       "       [ 0.15226547, -0.75309358,  0.65281216, ..., -1.45036679,\n",
       "         0.62563098, -1.03071387],\n",
       "       [ 2.18977235,  1.67383892,  0.10362413, ...,  0.72504581,\n",
       "        -0.51329768, -0.96601386],\n",
       "       ...,\n",
       "       [-0.22172269, -1.05503654,  0.32763504, ..., -0.98806491,\n",
       "        -0.69995543, -0.12266325],\n",
       "       [-0.24600763, -1.02864778, -1.94137868, ..., -1.75887319,\n",
       "        -1.56206114, -1.00989735],\n",
       "       [ 1.14066273, -0.7080938 , -0.27141349, ..., -0.2860679 ,\n",
       "        -1.24094654,  0.2126516 ]])"
      ]
     },
     "execution_count": 28,
     "metadata": {},
     "output_type": "execute_result"
    }
   ],
   "source": [
    "X_train_selecetd = sel_.transform(scaler.transform(X_train))\n",
    "X_test_selecetd = sel_.transform(scaler.transform(X_test))\n",
    "X_train_selecetd"
   ]
  },
  {
   "cell_type": "code",
   "execution_count": 29,
   "metadata": {},
   "outputs": [
    {
     "name": "stdout",
     "output_type": "stream",
     "text": [
      "(426, 26) (143, 26)\n"
     ]
    }
   ],
   "source": [
    "print(X_train_selecetd.shape, X_test_selecetd.shape)"
   ]
  },
  {
   "cell_type": "markdown",
   "metadata": {},
   "source": [
    "### 7.2 Feature importance from decision trees"
   ]
  },
  {
   "cell_type": "code",
   "execution_count": 30,
   "metadata": {},
   "outputs": [],
   "source": [
    "import numpy as np\n",
    "import pandas as pd\n",
    "import matplotlib.pyplot as plt\n",
    "import seaborn as sns\n",
    "\n",
    "# Sklearn\n",
    "from sklearn.datasets import load_breast_cancer, fetch_california_housing\n",
    "from sklearn.feature_selection import SelectFromModel\n",
    "from sklearn.ensemble import RandomForestClassifier, RandomForestRegressor\n",
    "from sklearn.model_selection import train_test_split"
   ]
  },
  {
   "cell_type": "code",
   "execution_count": 31,
   "metadata": {},
   "outputs": [],
   "source": [
    "brest_cancer = load_breast_cancer()\n",
    "X = pd.DataFrame(brest_cancer.data, columns = brest_cancer.feature_names)\n",
    "y = brest_cancer.target\n",
    "\n",
    "X_train, X_test, y_train, y_test = train_test_split(X, y, random_state=0)"
   ]
  },
  {
   "cell_type": "code",
   "execution_count": 32,
   "metadata": {},
   "outputs": [
    {
     "data": {
      "text/plain": [
       "array([ True, False, False,  True, False, False,  True,  True, False,\n",
       "       False,  True, False, False, False, False, False, False, False,\n",
       "       False, False, False, False,  True,  True, False, False, False,\n",
       "        True, False, False])"
      ]
     },
     "execution_count": 32,
     "metadata": {},
     "output_type": "execute_result"
    }
   ],
   "source": [
    "sel_ = SelectFromModel(\n",
    "    RandomForestClassifier(\n",
    "        n_estimators=10, random_state=10\n",
    "    )  \n",
    ")\n",
    "\n",
    "sel_.fit(X_train, y_train)\n",
    "sel_.get_support()"
   ]
  },
  {
   "cell_type": "code",
   "execution_count": 34,
   "metadata": {},
   "outputs": [
    {
     "data": {
      "text/plain": [
       "Index(['mean radius', 'mean area', 'mean concavity', 'mean concave points',\n",
       "       'radius error', 'worst perimeter', 'worst area',\n",
       "       'worst concave points'],\n",
       "      dtype='object')"
      ]
     },
     "execution_count": 34,
     "metadata": {},
     "output_type": "execute_result"
    }
   ],
   "source": [
    "selected_feats = X_train.columns[sel_.get_support()]\n",
    "selected_feats"
   ]
  },
  {
   "cell_type": "code",
   "execution_count": 44,
   "metadata": {},
   "outputs": [
    {
     "name": "stdout",
     "output_type": "stream",
     "text": [
      "<class 'numpy.ndarray'>\n",
      "<class 'numpy.ndarray'>\n"
     ]
    }
   ],
   "source": [
    "print(type(sel_.estimator_.feature_importances_))\n",
    "print(type(sel_.estimator_.feature_importances_.ravel()))"
   ]
  },
  {
   "cell_type": "code",
   "execution_count": 48,
   "metadata": {},
   "outputs": [
    {
     "data": {
      "image/png": "[encoded data removed]",
      "text/plain": [
       "<Figure size 1000x500 with 1 Axes>"
      ]
     },
     "metadata": {},
     "output_type": "display_data"
    }
   ],
   "source": [
    "pd.Series(sel_.estimator_.feature_importances_.ravel(),\n",
    "          index = X_train.columns).sort_values(ascending=False).plot.bar(figsize = (10,5))\n",
    "plt.ylabel(\"Feature importance\")\n",
    "plt.show()"
   ]
  },
  {
   "cell_type": "code",
   "execution_count": 50,
   "metadata": {},
   "outputs": [
    {
     "data": {
      "text/plain": [
       "array([[1.185e+01, 4.327e+02, 2.688e-02, ..., 8.435e+01, 5.178e+02,\n",
       "        9.140e-02],\n",
       "       [1.122e+01, 3.873e+02, 5.006e-03, ..., 7.691e+01, 4.361e+02,\n",
       "        2.022e-02],\n",
       "       [2.013e+01, 1.261e+03, 1.440e-01, ..., 1.550e+02, 1.731e+03,\n",
       "        1.628e-01],\n",
       "       ...,\n",
       "       [9.436e+00, 2.786e+02, 2.710e-02, ..., 7.579e+01, 4.396e+02,\n",
       "        5.052e-02],\n",
       "       [9.720e+00, 2.881e+02, 0.000e+00, ..., 6.225e+01, 3.038e+02,\n",
       "        0.000e+00],\n",
       "       [1.151e+01, 4.035e+02, 1.112e-01, ..., 8.228e+01, 4.742e+02,\n",
       "        9.653e-02]])"
      ]
     },
     "execution_count": 50,
     "metadata": {},
     "output_type": "execute_result"
    }
   ],
   "source": [
    "X_train_selecetd = sel_.transform(X_train)\n",
    "X_test_selecetd = sel_.transform(X_test)\n",
    "X_train_selecetd"
   ]
  },
  {
   "cell_type": "markdown",
   "metadata": {},
   "source": [
    "### 7.3 Recursive feature elemination by feature importance"
   ]
  },
  {
   "cell_type": "code",
   "execution_count": 51,
   "metadata": {},
   "outputs": [],
   "source": [
    "import numpy as np\n",
    "import pandas as pd\n",
    "import matplotlib.pyplot as plt\n",
    "import seaborn as sns\n",
    "\n",
    "# Sklearn\n",
    "from sklearn.datasets import load_breast_cancer, fetch_california_housing\n",
    "from sklearn.feature_selection import RFE\n",
    "from sklearn.ensemble import RandomForestClassifier, RandomForestRegressor\n",
    "from sklearn.model_selection import train_test_split"
   ]
  },
  {
   "cell_type": "code",
   "execution_count": 52,
   "metadata": {},
   "outputs": [],
   "source": [
    "brest_cancer = load_breast_cancer()\n",
    "X = pd.DataFrame(brest_cancer.data, columns = brest_cancer.feature_names)\n",
    "y = brest_cancer.target\n",
    "\n",
    "X_train, X_test, y_train, y_test = train_test_split(X, y, random_state=0)"
   ]
  },
  {
   "cell_type": "code",
   "execution_count": 53,
   "metadata": {},
   "outputs": [
    {
     "data": {
      "text/plain": [
       "Index(['mean area', 'mean concave points', 'area error', 'worst texture',\n",
       "       'worst perimeter', 'worst area', 'worst compactness',\n",
       "       'worst concave points'],\n",
       "      dtype='object')"
      ]
     },
     "execution_count": 53,
     "metadata": {},
     "output_type": "execute_result"
    }
   ],
   "source": [
    "sel_ = RFE(\n",
    "    RandomForestClassifier(\n",
    "        n_estimators=10, random_state=10\n",
    "    ),\n",
    "    n_features_to_select=8,\n",
    "    step = 2\n",
    ")\n",
    "\n",
    "sel_.fit(X_train, y_train)\n",
    "selected_feats = X_train.columns[(sel_.get_support())]\n",
    "selected_feats"
   ]
  },
  {
   "cell_type": "code",
   "execution_count": 54,
   "metadata": {},
   "outputs": [
    {
     "data": {
      "text/plain": [
       "array([[4.327e+02, 2.280e-02, 1.388e+01, ..., 5.178e+02, 1.758e-01,\n",
       "        9.140e-02],\n",
       "       [3.873e+02, 7.583e-03, 1.962e+01, ..., 4.361e+02, 9.669e-02,\n",
       "        2.022e-02],\n",
       "       [1.261e+03, 9.791e-02, 9.904e+01, ..., 1.731e+03, 1.922e-01,\n",
       "        1.628e-01],\n",
       "       ...,\n",
       "       [2.786e+02, 1.406e-02, 3.048e+01, ..., 4.396e+02, 1.049e-01,\n",
       "        5.052e-02],\n",
       "       [2.881e+02, 0.000e+00, 2.169e+01, ..., 3.038e+02, 2.729e-02,\n",
       "        0.000e+00],\n",
       "       [4.035e+02, 4.105e-02, 1.697e+01, ..., 4.742e+02, 2.517e-01,\n",
       "        9.653e-02]])"
      ]
     },
     "execution_count": 54,
     "metadata": {},
     "output_type": "execute_result"
    }
   ],
   "source": [
    "X_train_selecetd = sel_.transform(X_train)\n",
    "X_test_selecetd = sel_.transform(X_test)\n",
    "X_train_selecetd"
   ]
  }
 ],
 "metadata": {
  "kernelspec": {
   "display_name": "Python 3.9.13 ('datascience')",
   "language": "python",
   "name": "python3"
  },
  "language_info": {
   "codemirror_mode": {
    "name": "ipython",
    "version": 3
   },
   "file_extension": ".py",
   "mimetype": "text/x-python",
   "name": "python",
   "nbconvert_exporter": "python",
   "pygments_lexer": "ipython3",
   "version": "3.9.13"
  },
  "orig_nbformat": 4,
  "vscode": {
   "interpreter": {
    "hash": "2b0682c63ccf40119d03593b7cd5298f348ffaf8e13faf844cf14e5e4e7e25a8"
   }
  }
 },
 "nbformat": 4,
 "nbformat_minor": 2
}
