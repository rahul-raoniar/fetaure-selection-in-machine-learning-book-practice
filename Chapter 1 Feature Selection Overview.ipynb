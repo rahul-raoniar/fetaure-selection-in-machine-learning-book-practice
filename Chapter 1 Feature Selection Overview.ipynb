{
 "cells": [
  {
   "cell_type": "markdown",
   "metadata": {},
   "source": [
    "1. Basic Feature Selection Methods\n",
    "* Constant features\n",
    "* Quasi-constant features\n",
    "* Duplicate features\n",
    "* Correlation of predictors\n",
    "\n",
    "2. Filter Methods\n",
    "* Chi-square\n",
    "* Anova\n",
    "* Correlation\n",
    "* Mutual Information\n",
    "* Univariate Feature Selection\n",
    "    * Single feature model\n",
    "    * Traget encoding\n",
    "    \n",
    "3. Wrapper Method\n",
    "* Exhaustive search\n",
    "* Forward feature selection\n",
    "* Backward feature elemination\n",
    "\n",
    "4. Embeded Methods\n",
    "* Lasso\n",
    "* Feature importance from decision trees\n",
    "* Recursive feature elimination by feature importance\n",
    "\n",
    "5. Other Methods\n",
    "* Recursive feature addition\n",
    "* Recursive feature elemination\n",
    "* Feature shuffling"
   ]
  },
  {
   "cell_type": "code",
   "execution_count": null,
   "metadata": {},
   "outputs": [],
   "source": []
  }
 ],
 "metadata": {
  "kernelspec": {
   "display_name": "Python 3.9.13 ('datascience')",
   "language": "python",
   "name": "python3"
  },
  "language_info": {
   "name": "python",
   "version": "3.9.13"
  },
  "orig_nbformat": 4,
  "vscode": {
   "interpreter": {
    "hash": "2b0682c63ccf40119d03593b7cd5298f348ffaf8e13faf844cf14e5e4e7e25a8"
   }
  }
 },
 "nbformat": 4,
 "nbformat_minor": 2
}
