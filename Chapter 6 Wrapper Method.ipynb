{
 "cells": [
  {
   "cell_type": "markdown",
   "metadata": {},
   "source": [
    "### Wrapper Methods\n",
    "* 1. `Exhustive search`\n",
    "* 2. `Forward feature selection`\n",
    "    * 2.1 using `sklearn`\n",
    "    * 2.2 using `mlxtend`\n",
    "    \n",
    "* 3. `Backward feature selection`\n",
    "    * 2.1 using `sklearn`\n",
    "    * 2.2 using `mlxtend`"
   ]
  },
  {
   "cell_type": "markdown",
   "metadata": {},
   "source": [
    "### 1. Exhustive Search"
   ]
  },
  {
   "cell_type": "code",
   "execution_count": 67,
   "metadata": {},
   "outputs": [],
   "source": [
    "import numpy as np\n",
    "import pandas as pd\n",
    "import matplotlib.pyplot as plt\n",
    "import seaborn as sns\n",
    "\n",
    "# Sklearn\n",
    "from sklearn.datasets import load_breast_cancer\n",
    "from sklearn.model_selection import train_test_split\n",
    "from sklearn.ensemble import RandomForestClassifier\n",
    "\n",
    "# mlextend\n",
    "from mlxtend.feature_selection import ExhaustiveFeatureSelector"
   ]
  },
  {
   "cell_type": "code",
   "execution_count": 2,
   "metadata": {},
   "outputs": [],
   "source": [
    "brest_cancer = load_breast_cancer()\n",
    "X = pd.DataFrame(brest_cancer.data, columns = brest_cancer.feature_names)\n",
    "y = brest_cancer.target\n",
    "\n",
    "X_train, X_test, y_train, y_test = train_test_split(X, y, random_state=0)"
   ]
  },
  {
   "cell_type": "code",
   "execution_count": 3,
   "metadata": {},
   "outputs": [
    {
     "name": "stderr",
     "output_type": "stream",
     "text": [
      "Features: 31930/31930"
     ]
    },
    {
     "data": {
      "text/html": [
       "<style>#sk-container-id-1 {color: black;background-color: white;}#sk-container-id-1 pre{padding: 0;}#sk-container-id-1 div.sk-toggleable {background-color: white;}#sk-container-id-1 label.sk-toggleable__label {cursor: pointer;display: block;width: 100%;margin-bottom: 0;padding: 0.3em;box-sizing: border-box;text-align: center;}#sk-container-id-1 label.sk-toggleable__label-arrow:before {content: \"▸\";float: left;margin-right: 0.25em;color: #696969;}#sk-container-id-1 label.sk-toggleable__label-arrow:hover:before {color: black;}#sk-container-id-1 div.sk-estimator:hover label.sk-toggleable__label-arrow:before {color: black;}#sk-container-id-1 div.sk-toggleable__content {max-height: 0;max-width: 0;overflow: hidden;text-align: left;background-color: #f0f8ff;}#sk-container-id-1 div.sk-toggleable__content pre {margin: 0.2em;color: black;border-radius: 0.25em;background-color: #f0f8ff;}#sk-container-id-1 input.sk-toggleable__control:checked~div.sk-toggleable__content {max-height: 200px;max-width: 100%;overflow: auto;}#sk-container-id-1 input.sk-toggleable__control:checked~label.sk-toggleable__label-arrow:before {content: \"▾\";}#sk-container-id-1 div.sk-estimator input.sk-toggleable__control:checked~label.sk-toggleable__label {background-color: #d4ebff;}#sk-container-id-1 div.sk-label input.sk-toggleable__control:checked~label.sk-toggleable__label {background-color: #d4ebff;}#sk-container-id-1 input.sk-hidden--visually {border: 0;clip: rect(1px 1px 1px 1px);clip: rect(1px, 1px, 1px, 1px);height: 1px;margin: -1px;overflow: hidden;padding: 0;position: absolute;width: 1px;}#sk-container-id-1 div.sk-estimator {font-family: monospace;background-color: #f0f8ff;border: 1px dotted black;border-radius: 0.25em;box-sizing: border-box;margin-bottom: 0.5em;}#sk-container-id-1 div.sk-estimator:hover {background-color: #d4ebff;}#sk-container-id-1 div.sk-parallel-item::after {content: \"\";width: 100%;border-bottom: 1px solid gray;flex-grow: 1;}#sk-container-id-1 div.sk-label:hover label.sk-toggleable__label {background-color: #d4ebff;}#sk-container-id-1 div.sk-serial::before {content: \"\";position: absolute;border-left: 1px solid gray;box-sizing: border-box;top: 0;bottom: 0;left: 50%;z-index: 0;}#sk-container-id-1 div.sk-serial {display: flex;flex-direction: column;align-items: center;background-color: white;padding-right: 0.2em;padding-left: 0.2em;position: relative;}#sk-container-id-1 div.sk-item {position: relative;z-index: 1;}#sk-container-id-1 div.sk-parallel {display: flex;align-items: stretch;justify-content: center;background-color: white;position: relative;}#sk-container-id-1 div.sk-item::before, #sk-container-id-1 div.sk-parallel-item::before {content: \"\";position: absolute;border-left: 1px solid gray;box-sizing: border-box;top: 0;bottom: 0;left: 50%;z-index: -1;}#sk-container-id-1 div.sk-parallel-item {display: flex;flex-direction: column;z-index: 1;position: relative;background-color: white;}#sk-container-id-1 div.sk-parallel-item:first-child::after {align-self: flex-end;width: 50%;}#sk-container-id-1 div.sk-parallel-item:last-child::after {align-self: flex-start;width: 50%;}#sk-container-id-1 div.sk-parallel-item:only-child::after {width: 0;}#sk-container-id-1 div.sk-dashed-wrapped {border: 1px dashed gray;margin: 0 0.4em 0.5em 0.4em;box-sizing: border-box;padding-bottom: 0.4em;background-color: white;}#sk-container-id-1 div.sk-label label {font-family: monospace;font-weight: bold;display: inline-block;line-height: 1.2em;}#sk-container-id-1 div.sk-label-container {text-align: center;}#sk-container-id-1 div.sk-container {/* jupyter's `normalize.less` sets `[hidden] { display: none; }` but bootstrap.min.css set `[hidden] { display: none !important; }` so we also need the `!important` here to be able to override the default hidden behavior on the sphinx rendered scikit-learn.org. See: https://github.com/scikit-learn/scikit-learn/issues/21755 */display: inline-block !important;position: relative;}#sk-container-id-1 div.sk-text-repr-fallback {display: none;}</style><div id=\"sk-container-id-1\" class=\"sk-top-container\"><div class=\"sk-text-repr-fallback\"><pre>ExhaustiveFeatureSelector(cv=2,\n",
       "                          estimator=RandomForestClassifier(n_estimators=3,\n",
       "                                                           random_state=0),\n",
       "                          max_features=4, scoring=&#x27;roc_auc&#x27;)</pre><b>In a Jupyter environment, please rerun this cell to show the HTML representation or trust the notebook. <br />On GitHub, the HTML representation is unable to render, please try loading this page with nbviewer.org.</b></div><div class=\"sk-container\" hidden><div class=\"sk-item sk-dashed-wrapped\"><div class=\"sk-label-container\"><div class=\"sk-label sk-toggleable\"><input class=\"sk-toggleable__control sk-hidden--visually\" id=\"sk-estimator-id-1\" type=\"checkbox\" ><label for=\"sk-estimator-id-1\" class=\"sk-toggleable__label sk-toggleable__label-arrow\">ExhaustiveFeatureSelector</label><div class=\"sk-toggleable__content\"><pre>ExhaustiveFeatureSelector(cv=2,\n",
       "                          estimator=RandomForestClassifier(n_estimators=3,\n",
       "                                                           random_state=0),\n",
       "                          max_features=4, scoring=&#x27;roc_auc&#x27;)</pre></div></div></div><div class=\"sk-parallel\"><div class=\"sk-parallel-item\"><div class=\"sk-item\"><div class=\"sk-label-container\"><div class=\"sk-label sk-toggleable\"><input class=\"sk-toggleable__control sk-hidden--visually\" id=\"sk-estimator-id-2\" type=\"checkbox\" ><label for=\"sk-estimator-id-2\" class=\"sk-toggleable__label sk-toggleable__label-arrow\">estimator: RandomForestClassifier</label><div class=\"sk-toggleable__content\"><pre>RandomForestClassifier(n_estimators=3, random_state=0)</pre></div></div></div><div class=\"sk-serial\"><div class=\"sk-item\"><div class=\"sk-estimator sk-toggleable\"><input class=\"sk-toggleable__control sk-hidden--visually\" id=\"sk-estimator-id-3\" type=\"checkbox\" ><label for=\"sk-estimator-id-3\" class=\"sk-toggleable__label sk-toggleable__label-arrow\">RandomForestClassifier</label><div class=\"sk-toggleable__content\"><pre>RandomForestClassifier(n_estimators=3, random_state=0)</pre></div></div></div></div></div></div></div></div></div></div>"
      ],
      "text/plain": [
       "ExhaustiveFeatureSelector(cv=2,\n",
       "                          estimator=RandomForestClassifier(n_estimators=3,\n",
       "                                                           random_state=0),\n",
       "                          max_features=4, scoring='roc_auc')"
      ]
     },
     "execution_count": 3,
     "metadata": {},
     "output_type": "execute_result"
    }
   ],
   "source": [
    "efs = ExhaustiveFeatureSelector(\n",
    "    estimator=RandomForestClassifier(n_estimators=3, random_state=0),\n",
    "    min_features=1,\n",
    "    max_features=4,\n",
    "    scoring = \"roc_auc\",\n",
    "    cv =2)\n",
    "\n",
    "efs.fit(X_train, y_train)"
   ]
  },
  {
   "cell_type": "code",
   "execution_count": 4,
   "metadata": {},
   "outputs": [
    {
     "data": {
      "text/plain": [
       "('compactness error', 'worst area', 'worst concavity', 'worst symmetry')"
      ]
     },
     "execution_count": 4,
     "metadata": {},
     "output_type": "execute_result"
    }
   ],
   "source": [
    "efs.best_feature_names_"
   ]
  },
  {
   "cell_type": "code",
   "execution_count": 5,
   "metadata": {},
   "outputs": [
    {
     "data": {
      "text/plain": [
       "{'feature_idx': (0,),\n",
       " 'cv_scores': array([0.83105044, 0.86616541]),\n",
       " 'avg_score': 0.8486079287582265,\n",
       " 'feature_names': ('mean radius',)}"
      ]
     },
     "execution_count": 5,
     "metadata": {},
     "output_type": "execute_result"
    }
   ],
   "source": [
    "efs.subsets_[0]"
   ]
  },
  {
   "cell_type": "code",
   "execution_count": 6,
   "metadata": {},
   "outputs": [],
   "source": [
    "X_train_t = efs.transform(X_train)\n",
    "X_test_t = efs.transform(X_test)"
   ]
  },
  {
   "cell_type": "code",
   "execution_count": 8,
   "metadata": {},
   "outputs": [
    {
     "data": {
      "text/plain": [
       "array([[2.265e-02, 8.444e+02, 5.106e-01, 3.585e-01],\n",
       "       [8.082e-03, 6.329e+02, 1.390e-01, 2.444e-01],\n",
       "       [9.238e-03, 6.889e+02, 6.260e-02, 2.136e-01],\n",
       "       [1.377e-02, 8.197e+02, 1.565e-01, 2.636e-01],\n",
       "       [4.899e-03, 5.459e+02, 4.833e-02, 1.987e-01],\n",
       "       [1.641e-02, 4.786e+02, 1.624e-01, 3.060e-01],\n",
       "       [4.560e-02, 4.884e+02, 2.912e-01, 2.191e-01],\n",
       "       [9.110e-03, 4.831e+02, 7.915e-02, 3.487e-01],\n",
       "       [9.692e-03, 2.480e+02, 0.000e+00, 3.058e-01],\n",
       "       [4.671e-02, 3.571e+02, 7.162e-02, 2.434e-01]])"
      ]
     },
     "execution_count": 8,
     "metadata": {},
     "output_type": "execute_result"
    }
   ],
   "source": [
    "X_test_t[0:10]"
   ]
  },
  {
   "cell_type": "markdown",
   "metadata": {},
   "source": [
    "### 2. Forward Feature Selection"
   ]
  },
  {
   "cell_type": "markdown",
   "metadata": {},
   "source": [
    "##### 2.1 Using Sklearn"
   ]
  },
  {
   "cell_type": "code",
   "execution_count": 28,
   "metadata": {},
   "outputs": [],
   "source": [
    "import numpy as np\n",
    "import pandas as pd\n",
    "import matplotlib.pyplot as plt\n",
    "import seaborn as sns\n",
    "\n",
    "# Sklearn\n",
    "from sklearn.datasets import load_breast_cancer\n",
    "from sklearn.model_selection import train_test_split\n",
    "from sklearn.ensemble import RandomForestClassifier\n",
    "from sklearn.feature_selection import SequentialFeatureSelector as SFS"
   ]
  },
  {
   "cell_type": "code",
   "execution_count": 29,
   "metadata": {},
   "outputs": [],
   "source": [
    "brest_cancer = load_breast_cancer()\n",
    "X = pd.DataFrame(brest_cancer.data, columns = brest_cancer.feature_names)\n",
    "y = brest_cancer.target\n",
    "\n",
    "X_train, X_test, y_train, y_test = train_test_split(X, y, random_state=0)"
   ]
  },
  {
   "cell_type": "code",
   "execution_count": 30,
   "metadata": {},
   "outputs": [
    {
     "data": {
      "text/plain": [
       "array(['mean smoothness', 'mean concavity', 'worst texture',\n",
       "       'worst perimeter', 'worst concavity'], dtype=object)"
      ]
     },
     "execution_count": 30,
     "metadata": {},
     "output_type": "execute_result"
    }
   ],
   "source": [
    "sfs = SFS(\n",
    "    estimator=RandomForestClassifier(n_estimators=5, random_state=0),\n",
    "    n_features_to_select=\"auto\",\n",
    "    tol=0.001,\n",
    "    direction=\"forward\",\n",
    "    scoring=\"roc_auc\",\n",
    "    cv = 3\n",
    "    )\n",
    "\n",
    "sfs.fit(X_train , y_train)\n",
    "sfs.get_feature_names_out()"
   ]
  },
  {
   "cell_type": "code",
   "execution_count": 31,
   "metadata": {},
   "outputs": [],
   "source": [
    "X_train_t = sfs.transform(X_train)\n",
    "X_test_t = sfs.transform(X_test)"
   ]
  },
  {
   "cell_type": "markdown",
   "metadata": {},
   "source": [
    "##### 2.2 Using mlextend"
   ]
  },
  {
   "cell_type": "code",
   "execution_count": 32,
   "metadata": {},
   "outputs": [],
   "source": [
    "import numpy as np\n",
    "import pandas as pd\n",
    "import matplotlib.pyplot as plt\n",
    "import seaborn as sns\n",
    "\n",
    "# Sklearn\n",
    "from sklearn.datasets import load_breast_cancer\n",
    "from sklearn.model_selection import train_test_split\n",
    "from sklearn.ensemble import RandomForestClassifier\n",
    "from mlxtend.feature_selection import SequentialFeatureSelector as SFS"
   ]
  },
  {
   "cell_type": "code",
   "execution_count": 33,
   "metadata": {},
   "outputs": [],
   "source": [
    "brest_cancer = load_breast_cancer()\n",
    "X = pd.DataFrame(brest_cancer.data, columns = brest_cancer.feature_names)\n",
    "y = brest_cancer.target\n",
    "\n",
    "X_train, X_test, y_train, y_test = train_test_split(X, y, random_state=0)"
   ]
  },
  {
   "cell_type": "code",
   "execution_count": 34,
   "metadata": {},
   "outputs": [
    {
     "name": "stderr",
     "output_type": "stream",
     "text": [
      "[Parallel(n_jobs=1)]: Using backend SequentialBackend with 1 concurrent workers.\n",
      "[Parallel(n_jobs=1)]: Done  30 out of  30 | elapsed:    0.9s finished\n",
      "Features: 1/10[Parallel(n_jobs=1)]: Using backend SequentialBackend with 1 concurrent workers.\n",
      "[Parallel(n_jobs=1)]: Done  29 out of  29 | elapsed:    0.7s finished\n",
      "Features: 2/10[Parallel(n_jobs=1)]: Using backend SequentialBackend with 1 concurrent workers.\n",
      "[Parallel(n_jobs=1)]: Done  28 out of  28 | elapsed:    0.8s finished\n",
      "Features: 3/10[Parallel(n_jobs=1)]: Using backend SequentialBackend with 1 concurrent workers.\n",
      "[Parallel(n_jobs=1)]: Done  27 out of  27 | elapsed:    0.9s finished\n",
      "Features: 4/10[Parallel(n_jobs=1)]: Using backend SequentialBackend with 1 concurrent workers.\n",
      "[Parallel(n_jobs=1)]: Done  26 out of  26 | elapsed:    0.8s finished\n",
      "Features: 5/10[Parallel(n_jobs=1)]: Using backend SequentialBackend with 1 concurrent workers.\n",
      "[Parallel(n_jobs=1)]: Done  25 out of  25 | elapsed:    0.8s finished\n",
      "Features: 6/10[Parallel(n_jobs=1)]: Using backend SequentialBackend with 1 concurrent workers.\n",
      "[Parallel(n_jobs=1)]: Done  24 out of  24 | elapsed:    0.7s finished\n",
      "Features: 7/10[Parallel(n_jobs=1)]: Using backend SequentialBackend with 1 concurrent workers.\n",
      "[Parallel(n_jobs=1)]: Done  23 out of  23 | elapsed:    0.7s finished\n",
      "Features: 8/10[Parallel(n_jobs=1)]: Using backend SequentialBackend with 1 concurrent workers.\n",
      "[Parallel(n_jobs=1)]: Done  22 out of  22 | elapsed:    0.8s finished\n",
      "Features: 9/10[Parallel(n_jobs=1)]: Using backend SequentialBackend with 1 concurrent workers.\n",
      "[Parallel(n_jobs=1)]: Done  21 out of  21 | elapsed:    0.6s finished\n",
      "Features: 10/10"
     ]
    },
    {
     "data": {
      "text/plain": [
       "('mean perimeter',\n",
       " 'mean compactness',\n",
       " 'mean fractal dimension',\n",
       " 'compactness error',\n",
       " 'concave points error',\n",
       " 'worst texture',\n",
       " 'worst perimeter',\n",
       " 'worst smoothness',\n",
       " 'worst concave points',\n",
       " 'worst symmetry')"
      ]
     },
     "execution_count": 34,
     "metadata": {},
     "output_type": "execute_result"
    }
   ],
   "source": [
    "sfs = SFS(\n",
    "    estimator=RandomForestClassifier(n_estimators=5, random_state=0),\n",
    "    k_features=10,\n",
    "    forward=True,\n",
    "    scoring=\"roc_auc\",\n",
    "    verbose=1,\n",
    "    cv = 3\n",
    "    )\n",
    "\n",
    "sfs.fit(X_train , y_train)\n",
    "sfs.k_feature_names_"
   ]
  },
  {
   "cell_type": "code",
   "execution_count": 35,
   "metadata": {},
   "outputs": [],
   "source": [
    "X_train_t = sfs.transform(X_train)\n",
    "X_test_t = sfs.transform(X_test)"
   ]
  },
  {
   "cell_type": "code",
   "execution_count": 36,
   "metadata": {},
   "outputs": [
    {
     "data": {
      "text/plain": [
       "array([[8.864e+01, 1.469e-01, 7.325e-02, 2.265e-02, 1.334e-02, 2.966e+01,\n",
       "        1.133e+02, 1.574e-01, 2.051e-01, 3.585e-01],\n",
       "       [8.410e+01, 5.205e-02, 5.584e-02, 8.082e-03, 6.451e-03, 3.423e+01,\n",
       "        9.129e+01, 1.289e-01, 6.005e-02, 2.444e-01],\n",
       "       [8.959e+01, 5.581e-02, 5.586e-02, 9.238e-03, 1.076e-02, 1.931e+01,\n",
       "        9.653e+01, 1.034e-01, 8.216e-02, 2.136e-01],\n",
       "       [9.122e+01, 5.220e-02, 5.586e-02, 1.377e-02, 5.243e-03, 2.526e+01,\n",
       "        1.058e+02, 9.445e-02, 7.530e-02, 2.636e-01],\n",
       "       [8.261e+01, 3.766e-02, 5.863e-02, 4.899e-03, 1.164e-02, 2.281e+01,\n",
       "        8.446e+01, 9.701e-02, 5.013e-02, 1.987e-01],\n",
       "       [7.276e+01, 8.499e-02, 6.211e-02, 1.641e-02, 1.107e-02, 2.303e+01,\n",
       "        7.915e+01, 1.483e-01, 8.542e-02, 3.060e-01],\n",
       "       [7.875e+01, 1.073e-01, 6.659e-02, 4.560e-02, 1.667e-02, 2.871e+01,\n",
       "        8.736e+01, 8.799e-02, 1.092e-01, 2.191e-01],\n",
       "       [7.433e+01, 5.253e-02, 6.128e-02, 9.110e-03, 7.638e-03, 2.655e+01,\n",
       "        8.092e+01, 1.223e-01, 5.741e-02, 3.487e-01],\n",
       "       [4.798e+01, 4.878e-02, 7.285e-02, 9.692e-03, 0.000e+00, 3.092e+01,\n",
       "        5.717e+01, 1.256e-01, 0.000e+00, 3.058e-01],\n",
       "       [6.620e+01, 9.159e-02, 7.005e-02, 4.671e-02, 1.296e-02, 1.948e+01,\n",
       "        7.089e+01, 1.360e-01, 4.074e-02, 2.434e-01]])"
      ]
     },
     "execution_count": 36,
     "metadata": {},
     "output_type": "execute_result"
    }
   ],
   "source": [
    "X_test_t[0:10]"
   ]
  },
  {
   "cell_type": "code",
   "execution_count": 37,
   "metadata": {},
   "outputs": [
    {
     "data": {
      "text/plain": [
       "10"
      ]
     },
     "execution_count": 37,
     "metadata": {},
     "output_type": "execute_result"
    }
   ],
   "source": [
    "sfs.k_features"
   ]
  },
  {
   "cell_type": "code",
   "execution_count": 40,
   "metadata": {},
   "outputs": [
    {
     "data": {
      "text/html": [
       "<div>\n",
       "<style scoped>\n",
       "    .dataframe tbody tr th:only-of-type {\n",
       "        vertical-align: middle;\n",
       "    }\n",
       "\n",
       "    .dataframe tbody tr th {\n",
       "        vertical-align: top;\n",
       "    }\n",
       "\n",
       "    .dataframe thead th {\n",
       "        text-align: right;\n",
       "    }\n",
       "</style>\n",
       "<table border=\"1\" class=\"dataframe\">\n",
       "  <thead>\n",
       "    <tr style=\"text-align: right;\">\n",
       "      <th></th>\n",
       "      <th>mean perimeter</th>\n",
       "      <th>mean compactness</th>\n",
       "      <th>mean fractal dimension</th>\n",
       "      <th>compactness error</th>\n",
       "      <th>concave points error</th>\n",
       "      <th>worst texture</th>\n",
       "      <th>worst perimeter</th>\n",
       "      <th>worst smoothness</th>\n",
       "      <th>worst concave points</th>\n",
       "      <th>worst symmetry</th>\n",
       "    </tr>\n",
       "  </thead>\n",
       "  <tbody>\n",
       "    <tr>\n",
       "      <th>0</th>\n",
       "      <td>75.54</td>\n",
       "      <td>0.05642</td>\n",
       "      <td>0.05715</td>\n",
       "      <td>0.015000</td>\n",
       "      <td>0.008578</td>\n",
       "      <td>25.75</td>\n",
       "      <td>84.35</td>\n",
       "      <td>0.13690</td>\n",
       "      <td>0.09140</td>\n",
       "      <td>0.3101</td>\n",
       "    </tr>\n",
       "    <tr>\n",
       "      <th>1</th>\n",
       "      <td>71.94</td>\n",
       "      <td>0.06779</td>\n",
       "      <td>0.06028</td>\n",
       "      <td>0.011040</td>\n",
       "      <td>0.004967</td>\n",
       "      <td>25.78</td>\n",
       "      <td>76.91</td>\n",
       "      <td>0.14240</td>\n",
       "      <td>0.02022</td>\n",
       "      <td>0.3292</td>\n",
       "    </tr>\n",
       "    <tr>\n",
       "      <th>2</th>\n",
       "      <td>131.20</td>\n",
       "      <td>0.10340</td>\n",
       "      <td>0.05533</td>\n",
       "      <td>0.024230</td>\n",
       "      <td>0.016780</td>\n",
       "      <td>38.25</td>\n",
       "      <td>155.00</td>\n",
       "      <td>0.11660</td>\n",
       "      <td>0.16280</td>\n",
       "      <td>0.2572</td>\n",
       "    </tr>\n",
       "    <tr>\n",
       "      <th>3</th>\n",
       "      <td>86.24</td>\n",
       "      <td>0.04052</td>\n",
       "      <td>0.05520</td>\n",
       "      <td>0.005274</td>\n",
       "      <td>0.005044</td>\n",
       "      <td>26.10</td>\n",
       "      <td>98.91</td>\n",
       "      <td>0.10500</td>\n",
       "      <td>0.05185</td>\n",
       "      <td>0.2335</td>\n",
       "    </tr>\n",
       "    <tr>\n",
       "      <th>4</th>\n",
       "      <td>107.10</td>\n",
       "      <td>0.07112</td>\n",
       "      <td>0.05325</td>\n",
       "      <td>0.014460</td>\n",
       "      <td>0.005297</td>\n",
       "      <td>26.56</td>\n",
       "      <td>127.30</td>\n",
       "      <td>0.10090</td>\n",
       "      <td>0.08737</td>\n",
       "      <td>0.4677</td>\n",
       "    </tr>\n",
       "    <tr>\n",
       "      <th>...</th>\n",
       "      <td>...</td>\n",
       "      <td>...</td>\n",
       "      <td>...</td>\n",
       "      <td>...</td>\n",
       "      <td>...</td>\n",
       "      <td>...</td>\n",
       "      <td>...</td>\n",
       "      <td>...</td>\n",
       "      <td>...</td>\n",
       "      <td>...</td>\n",
       "    </tr>\n",
       "    <tr>\n",
       "      <th>421</th>\n",
       "      <td>120.90</td>\n",
       "      <td>0.05884</td>\n",
       "      <td>0.04996</td>\n",
       "      <td>0.011140</td>\n",
       "      <td>0.014630</td>\n",
       "      <td>24.30</td>\n",
       "      <td>129.00</td>\n",
       "      <td>0.12430</td>\n",
       "      <td>0.12940</td>\n",
       "      <td>0.2567</td>\n",
       "    </tr>\n",
       "    <tr>\n",
       "      <th>422</th>\n",
       "      <td>83.97</td>\n",
       "      <td>0.23960</td>\n",
       "      <td>0.08243</td>\n",
       "      <td>0.072170</td>\n",
       "      <td>0.014320</td>\n",
       "      <td>40.68</td>\n",
       "      <td>97.65</td>\n",
       "      <td>0.18530</td>\n",
       "      <td>0.22100</td>\n",
       "      <td>0.4366</td>\n",
       "    </tr>\n",
       "    <tr>\n",
       "      <th>423</th>\n",
       "      <td>59.82</td>\n",
       "      <td>0.05956</td>\n",
       "      <td>0.06959</td>\n",
       "      <td>0.008982</td>\n",
       "      <td>0.006565</td>\n",
       "      <td>25.02</td>\n",
       "      <td>75.79</td>\n",
       "      <td>0.13330</td>\n",
       "      <td>0.05052</td>\n",
       "      <td>0.2454</td>\n",
       "    </tr>\n",
       "    <tr>\n",
       "      <th>424</th>\n",
       "      <td>60.73</td>\n",
       "      <td>0.02344</td>\n",
       "      <td>0.06447</td>\n",
       "      <td>0.006736</td>\n",
       "      <td>0.000000</td>\n",
       "      <td>20.83</td>\n",
       "      <td>62.25</td>\n",
       "      <td>0.07117</td>\n",
       "      <td>0.00000</td>\n",
       "      <td>0.1909</td>\n",
       "    </tr>\n",
       "    <tr>\n",
       "      <th>425</th>\n",
       "      <td>74.52</td>\n",
       "      <td>0.10210</td>\n",
       "      <td>0.06570</td>\n",
       "      <td>0.029820</td>\n",
       "      <td>0.012670</td>\n",
       "      <td>37.16</td>\n",
       "      <td>82.28</td>\n",
       "      <td>0.12980</td>\n",
       "      <td>0.09653</td>\n",
       "      <td>0.2112</td>\n",
       "    </tr>\n",
       "  </tbody>\n",
       "</table>\n",
       "<p>426 rows × 10 columns</p>\n",
       "</div>"
      ],
      "text/plain": [
       "     mean perimeter  mean compactness  mean fractal dimension  \\\n",
       "0             75.54           0.05642                 0.05715   \n",
       "1             71.94           0.06779                 0.06028   \n",
       "2            131.20           0.10340                 0.05533   \n",
       "3             86.24           0.04052                 0.05520   \n",
       "4            107.10           0.07112                 0.05325   \n",
       "..              ...               ...                     ...   \n",
       "421          120.90           0.05884                 0.04996   \n",
       "422           83.97           0.23960                 0.08243   \n",
       "423           59.82           0.05956                 0.06959   \n",
       "424           60.73           0.02344                 0.06447   \n",
       "425           74.52           0.10210                 0.06570   \n",
       "\n",
       "     compactness error  concave points error  worst texture  worst perimeter  \\\n",
       "0             0.015000              0.008578          25.75            84.35   \n",
       "1             0.011040              0.004967          25.78            76.91   \n",
       "2             0.024230              0.016780          38.25           155.00   \n",
       "3             0.005274              0.005044          26.10            98.91   \n",
       "4             0.014460              0.005297          26.56           127.30   \n",
       "..                 ...                   ...            ...              ...   \n",
       "421           0.011140              0.014630          24.30           129.00   \n",
       "422           0.072170              0.014320          40.68            97.65   \n",
       "423           0.008982              0.006565          25.02            75.79   \n",
       "424           0.006736              0.000000          20.83            62.25   \n",
       "425           0.029820              0.012670          37.16            82.28   \n",
       "\n",
       "     worst smoothness  worst concave points  worst symmetry  \n",
       "0             0.13690               0.09140          0.3101  \n",
       "1             0.14240               0.02022          0.3292  \n",
       "2             0.11660               0.16280          0.2572  \n",
       "3             0.10500               0.05185          0.2335  \n",
       "4             0.10090               0.08737          0.4677  \n",
       "..                ...                   ...             ...  \n",
       "421           0.12430               0.12940          0.2567  \n",
       "422           0.18530               0.22100          0.4366  \n",
       "423           0.13330               0.05052          0.2454  \n",
       "424           0.07117               0.00000          0.1909  \n",
       "425           0.12980               0.09653          0.2112  \n",
       "\n",
       "[426 rows x 10 columns]"
      ]
     },
     "execution_count": 40,
     "metadata": {},
     "output_type": "execute_result"
    }
   ],
   "source": [
    "# Transform into data frame\n",
    "pd.DataFrame(X_train_t, columns = sfs.k_feature_names_)"
   ]
  },
  {
   "cell_type": "markdown",
   "metadata": {},
   "source": [
    "### 3 Backward feature elimination"
   ]
  },
  {
   "cell_type": "code",
   "execution_count": 54,
   "metadata": {},
   "outputs": [],
   "source": [
    "import numpy as np\n",
    "import pandas as pd\n",
    "import matplotlib.pyplot as plt\n",
    "import seaborn as sns\n",
    "\n",
    "# Sklearn\n",
    "from sklearn.datasets import fetch_california_housing\n",
    "from sklearn.model_selection import train_test_split\n",
    "from sklearn.ensemble import RandomForestRegressor\n",
    "from sklearn.feature_selection import SequentialFeatureSelector as SFS"
   ]
  },
  {
   "cell_type": "markdown",
   "metadata": {},
   "source": [
    "##### 3.1 Using sklearn"
   ]
  },
  {
   "cell_type": "code",
   "execution_count": 55,
   "metadata": {},
   "outputs": [],
   "source": [
    "X, y = fetch_california_housing(return_X_y=True, as_frame=True)\n",
    "X_train, X_test, y_train, y_test = train_test_split(X, y, random_state=0)"
   ]
  },
  {
   "cell_type": "code",
   "execution_count": 56,
   "metadata": {},
   "outputs": [
    {
     "data": {
      "text/plain": [
       "array(['MedInc', 'HouseAge', 'AveBedrms', 'AveOccup', 'Latitude',\n",
       "       'Longitude'], dtype=object)"
      ]
     },
     "execution_count": 56,
     "metadata": {},
     "output_type": "execute_result"
    }
   ],
   "source": [
    "sfs = SFS(\n",
    "    estimator=RandomForestRegressor(n_estimators=5, random_state=10),\n",
    "    n_features_to_select=\"auto\",\n",
    "    tol=0.001,\n",
    "    direction=\"backward\",\n",
    "    scoring=\"r2\",\n",
    "    cv = 3\n",
    "    )\n",
    "\n",
    "sfs.fit(X_train , y_train)\n",
    "sfs.get_feature_names_out()"
   ]
  },
  {
   "cell_type": "code",
   "execution_count": 57,
   "metadata": {},
   "outputs": [],
   "source": [
    "X_train_t = sfs.transform(X_train)\n",
    "X_test_t = sfs.transform(X_test)"
   ]
  },
  {
   "cell_type": "markdown",
   "metadata": {},
   "source": [
    "##### 3.2 Using mlxtend"
   ]
  },
  {
   "cell_type": "code",
   "execution_count": 58,
   "metadata": {},
   "outputs": [],
   "source": [
    "import numpy as np\n",
    "import pandas as pd\n",
    "import matplotlib.pyplot as plt\n",
    "import seaborn as sns\n",
    "\n",
    "# Sklearn\n",
    "from sklearn.datasets import fetch_california_housing\n",
    "from sklearn.model_selection import train_test_split\n",
    "from sklearn.ensemble import RandomForestRegressor\n",
    "from mlxtend.feature_selection import SequentialFeatureSelector as SFS"
   ]
  },
  {
   "cell_type": "code",
   "execution_count": 59,
   "metadata": {},
   "outputs": [],
   "source": [
    "X, y = fetch_california_housing(return_X_y=True, as_frame=True)\n",
    "X_train, X_test, y_train, y_test = train_test_split(X, y, random_state=0)"
   ]
  },
  {
   "cell_type": "code",
   "execution_count": 60,
   "metadata": {},
   "outputs": [
    {
     "name": "stderr",
     "output_type": "stream",
     "text": [
      "[Parallel(n_jobs=1)]: Using backend SequentialBackend with 1 concurrent workers.\n",
      "[Parallel(n_jobs=1)]: Done   8 out of   8 | elapsed:    6.9s finished\n",
      "Features: 7/5[Parallel(n_jobs=1)]: Using backend SequentialBackend with 1 concurrent workers.\n",
      "[Parallel(n_jobs=1)]: Done   7 out of   7 | elapsed:    5.5s finished\n",
      "Features: 6/5[Parallel(n_jobs=1)]: Using backend SequentialBackend with 1 concurrent workers.\n",
      "[Parallel(n_jobs=1)]: Done   6 out of   6 | elapsed:    4.5s finished\n",
      "Features: 5/5"
     ]
    },
    {
     "data": {
      "text/plain": [
       "('HouseAge', 'AveRooms', 'AveBedrms', 'Latitude', 'Longitude')"
      ]
     },
     "execution_count": 60,
     "metadata": {},
     "output_type": "execute_result"
    }
   ],
   "source": [
    "sfs = SFS(\n",
    "    estimator=RandomForestRegressor(n_estimators=5, random_state=0),\n",
    "    k_features=5,\n",
    "    forward=False,\n",
    "    scoring=\"r2\",\n",
    "    verbose=1,\n",
    "    cv = 3\n",
    "    )\n",
    "\n",
    "sfs.fit(X_train , y_train)\n",
    "sfs.k_feature_names_"
   ]
  },
  {
   "cell_type": "code",
   "execution_count": 64,
   "metadata": {},
   "outputs": [
    {
     "data": {
      "text/plain": [
       "array([[  19.        ,    7.9616    ,    1.1376    ,   38.46      ,\n",
       "        -122.68      ],\n",
       "       [  18.        ,    6.5473251 ,    1.10288066,   32.95      ,\n",
       "        -117.24      ],\n",
       "       [  19.        ,    5.20754717,    1.21698113,   34.68      ,\n",
       "        -118.27      ],\n",
       "       [  13.        ,    6.42857143,    1.        ,   33.51      ,\n",
       "        -117.18      ],\n",
       "       [  21.        ,    4.42934783,    1.03668478,   38.62      ,\n",
       "        -121.41      ],\n",
       "       [  24.        ,    5.69372694,    0.94833948,   34.04      ,\n",
       "        -118.09      ],\n",
       "       [  26.        ,    5.77915194,    1.05123675,   34.09      ,\n",
       "        -117.62      ],\n",
       "       [  12.        ,    5.78106904,    1.06859688,   34.4       ,\n",
       "        -118.46      ],\n",
       "       [  14.        ,    5.32374101,    1.07913669,   33.73      ,\n",
       "        -117.02      ],\n",
       "       [  30.        ,    3.37669377,    1.01084011,   34.26      ,\n",
       "        -118.43      ]])"
      ]
     },
     "execution_count": 64,
     "metadata": {},
     "output_type": "execute_result"
    }
   ],
   "source": [
    "X_train_t = sfs.transform(X_train)\n",
    "X_test_t = sfs.transform(X_test)\n",
    "\n",
    "X_train_t[0:10]"
   ]
  },
  {
   "cell_type": "code",
   "execution_count": 66,
   "metadata": {},
   "outputs": [
    {
     "data": {
      "text/html": [
       "<div>\n",
       "<style scoped>\n",
       "    .dataframe tbody tr th:only-of-type {\n",
       "        vertical-align: middle;\n",
       "    }\n",
       "\n",
       "    .dataframe tbody tr th {\n",
       "        vertical-align: top;\n",
       "    }\n",
       "\n",
       "    .dataframe thead th {\n",
       "        text-align: right;\n",
       "    }\n",
       "</style>\n",
       "<table border=\"1\" class=\"dataframe\">\n",
       "  <thead>\n",
       "    <tr style=\"text-align: right;\">\n",
       "      <th></th>\n",
       "      <th>HouseAge</th>\n",
       "      <th>AveRooms</th>\n",
       "      <th>AveBedrms</th>\n",
       "      <th>Latitude</th>\n",
       "      <th>Longitude</th>\n",
       "    </tr>\n",
       "  </thead>\n",
       "  <tbody>\n",
       "    <tr>\n",
       "      <th>0</th>\n",
       "      <td>19.0</td>\n",
       "      <td>7.961600</td>\n",
       "      <td>1.137600</td>\n",
       "      <td>38.46</td>\n",
       "      <td>-122.68</td>\n",
       "    </tr>\n",
       "    <tr>\n",
       "      <th>1</th>\n",
       "      <td>18.0</td>\n",
       "      <td>6.547325</td>\n",
       "      <td>1.102881</td>\n",
       "      <td>32.95</td>\n",
       "      <td>-117.24</td>\n",
       "    </tr>\n",
       "    <tr>\n",
       "      <th>2</th>\n",
       "      <td>19.0</td>\n",
       "      <td>5.207547</td>\n",
       "      <td>1.216981</td>\n",
       "      <td>34.68</td>\n",
       "      <td>-118.27</td>\n",
       "    </tr>\n",
       "    <tr>\n",
       "      <th>3</th>\n",
       "      <td>13.0</td>\n",
       "      <td>6.428571</td>\n",
       "      <td>1.000000</td>\n",
       "      <td>33.51</td>\n",
       "      <td>-117.18</td>\n",
       "    </tr>\n",
       "  </tbody>\n",
       "</table>\n",
       "</div>"
      ],
      "text/plain": [
       "   HouseAge  AveRooms  AveBedrms  Latitude  Longitude\n",
       "0      19.0  7.961600   1.137600     38.46    -122.68\n",
       "1      18.0  6.547325   1.102881     32.95    -117.24\n",
       "2      19.0  5.207547   1.216981     34.68    -118.27\n",
       "3      13.0  6.428571   1.000000     33.51    -117.18"
      ]
     },
     "execution_count": 66,
     "metadata": {},
     "output_type": "execute_result"
    }
   ],
   "source": [
    "# Transform into data frame\n",
    "pd.DataFrame(X_train_t, columns = sfs.k_feature_names_).head(4)"
   ]
  }
 ],
 "metadata": {
  "kernelspec": {
   "display_name": "Python 3.9.13 ('datascience')",
   "language": "python",
   "name": "python3"
  },
  "language_info": {
   "codemirror_mode": {
    "name": "ipython",
    "version": 3
   },
   "file_extension": ".py",
   "mimetype": "text/x-python",
   "name": "python",
   "nbconvert_exporter": "python",
   "pygments_lexer": "ipython3",
   "version": "3.9.13"
  },
  "orig_nbformat": 4,
  "vscode": {
   "interpreter": {
    "hash": "2b0682c63ccf40119d03593b7cd5298f348ffaf8e13faf844cf14e5e4e7e25a8"
   }
  }
 },
 "nbformat": 4,
 "nbformat_minor": 2
}
